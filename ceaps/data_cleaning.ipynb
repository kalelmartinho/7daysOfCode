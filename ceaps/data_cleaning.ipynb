{
 "cells": [
  {
   "cell_type": "markdown",
   "id": "3ad02029-cf79-433a-b23a-aeff61c583c8",
   "metadata": {
    "tags": []
   },
   "source": [
    "![](https://github.com/kalelmartinho/7daysOfCode/blob/master/7daysOfCode.png?raw=true)\n",
    "\n",
    "---\n",
    "\n",
    "Por *Kalel Leonardo Martinho*\n",
    "\n",
    "# #7DaysOfCode - 1: Data Cleaning and Preparation 🧹\n",
    "\n",
    "Aplicar processos de tratamento e limpeza de dados identificando inconsistências, como campos que possuem valores nulos ou duplicados, converter campos de data que estão sendo carregados como texto, corrigir valores monetários, nomes incorretos, formatar campos de CNPJ, etc.\n",
    "\n",
    "---\n"
   ]
  },
  {
   "cell_type": "markdown",
   "id": "a1825a6d-02fd-4dc2-8044-e1bc70562c8b",
   "metadata": {},
   "source": [
    "## Uma primeira análise dos dados\n",
    "\n",
    "A primeira coisa a se fazer, é carregar as bibliotecas e os conjutos de dados que utilizaremos.\n",
    "Para esse projeto escolhi trabalhar com os dados dos últimos 12 anos (2010-2022)."
   ]
  },
  {
   "cell_type": "code",
   "execution_count": 1,
   "id": "37753ce3-a271-4e3b-b2ae-acecc3a32e91",
   "metadata": {},
   "outputs": [],
   "source": [
    "import pandas as pd\n",
    "import numpy as np\n",
    "\n",
    "\n",
    "url = 'https://www.senado.gov.br/transparencia/LAI/verba/despesa_ceaps_'\n",
    "#url = 'despesa_ceaps_'\n",
    "\n",
    "# Perceba que utilizamos o método concat para agrupar o conjunto de dados em um único dataset\n",
    "dados_ceaps = pd.concat(pd.read_csv(url+str(ano)+'.csv', encoding='ISO-8859-1', sep=';', skiprows=1, decimal=',') for ano in range(2010,2023))\n",
    "dados_ceaps.reset_index(drop=True, inplace=True) # Nessa linha corrigimos o índice com o método reset_index"
   ]
  },
  {
   "cell_type": "markdown",
   "id": "f3400bbe-ed2a-46cb-b574-a66e38f02a4c",
   "metadata": {},
   "source": [
    "Após realizar o processo de importação, é importante fazer uma **exploração inicial dos dados.**\n",
    "Isso permite que você veja que tudo foi lido corretamente e dá uma ideia do que está acontecendo com os dados. Nesse caso, vamos ver se há algum valor ausente, que será representado com NaN ou None."
   ]
  },
  {
   "cell_type": "code",
   "execution_count": 2,
   "id": "7cdfe82e-9a9d-47ea-9158-8da2aa7e66c9",
   "metadata": {},
   "outputs": [
    {
     "data": {
      "text/plain": [
       "(286388, 11)"
      ]
     },
     "execution_count": 2,
     "metadata": {},
     "output_type": "execute_result"
    }
   ],
   "source": [
    "dados_ceaps.shape # Utilizamos .shape para descobrirmos quantas linhas e colunas possuímos em nosso conjunto de dados"
   ]
  },
  {
   "cell_type": "code",
   "execution_count": 3,
   "id": "ac04e4af-eec0-4716-9f2e-72cbd61039f4",
   "metadata": {},
   "outputs": [
    {
     "data": {
      "text/html": [
       "<div>\n",
       "<style scoped>\n",
       "    .dataframe tbody tr th:only-of-type {\n",
       "        vertical-align: middle;\n",
       "    }\n",
       "\n",
       "    .dataframe tbody tr th {\n",
       "        vertical-align: top;\n",
       "    }\n",
       "\n",
       "    .dataframe thead th {\n",
       "        text-align: right;\n",
       "    }\n",
       "</style>\n",
       "<table border=\"1\" class=\"dataframe\">\n",
       "  <thead>\n",
       "    <tr style=\"text-align: right;\">\n",
       "      <th></th>\n",
       "      <th>ANO</th>\n",
       "      <th>MES</th>\n",
       "      <th>SENADOR</th>\n",
       "      <th>TIPO_DESPESA</th>\n",
       "      <th>CNPJ_CPF</th>\n",
       "      <th>FORNECEDOR</th>\n",
       "      <th>DOCUMENTO</th>\n",
       "      <th>DATA</th>\n",
       "      <th>DETALHAMENTO</th>\n",
       "      <th>VALOR_REEMBOLSADO</th>\n",
       "      <th>COD_DOCUMENTO</th>\n",
       "    </tr>\n",
       "  </thead>\n",
       "  <tbody>\n",
       "    <tr>\n",
       "      <th>0</th>\n",
       "      <td>2010</td>\n",
       "      <td>1</td>\n",
       "      <td>ACIR GURGACZ</td>\n",
       "      <td>Aluguel de imóveis para escritório político, c...</td>\n",
       "      <td>05.914.650/0001-66</td>\n",
       "      <td>CENTRAIS ELÉTRICAS DE RONDÔNIA</td>\n",
       "      <td>045216-3</td>\n",
       "      <td>19/01/2010</td>\n",
       "      <td>NaN</td>\n",
       "      <td>59.08</td>\n",
       "      <td>277219.0</td>\n",
       "    </tr>\n",
       "    <tr>\n",
       "      <th>1</th>\n",
       "      <td>2010</td>\n",
       "      <td>1</td>\n",
       "      <td>ACIR GURGACZ</td>\n",
       "      <td>Aluguel de imóveis para escritório político, c...</td>\n",
       "      <td>05.914.650/0001-66</td>\n",
       "      <td>CENTRAIS ELÉTRICAS DE RONDônia</td>\n",
       "      <td>0454206-1</td>\n",
       "      <td>19/01/2010</td>\n",
       "      <td>NaN</td>\n",
       "      <td>40.47</td>\n",
       "      <td>277218.0</td>\n",
       "    </tr>\n",
       "    <tr>\n",
       "      <th>2</th>\n",
       "      <td>2010</td>\n",
       "      <td>1</td>\n",
       "      <td>ACIR GURGACZ</td>\n",
       "      <td>Aluguel de imóveis para escritório político, c...</td>\n",
       "      <td>004.948.028-63</td>\n",
       "      <td>GILBERTO PISELO DO NASCIMENTO</td>\n",
       "      <td>NaN</td>\n",
       "      <td>12/01/2010</td>\n",
       "      <td>NaN</td>\n",
       "      <td>5000.0</td>\n",
       "      <td>229109.0</td>\n",
       "    </tr>\n",
       "    <tr>\n",
       "      <th>3</th>\n",
       "      <td>2010</td>\n",
       "      <td>1</td>\n",
       "      <td>ACIR GURGACZ</td>\n",
       "      <td>Divulgação da atividade parlamentar</td>\n",
       "      <td>09.040.457/0001-02</td>\n",
       "      <td>CENTRAL RONDÔNIA.COM</td>\n",
       "      <td>000003</td>\n",
       "      <td>05/01/2010</td>\n",
       "      <td>NaN</td>\n",
       "      <td>1500.0</td>\n",
       "      <td>268264.0</td>\n",
       "    </tr>\n",
       "    <tr>\n",
       "      <th>4</th>\n",
       "      <td>2010</td>\n",
       "      <td>1</td>\n",
       "      <td>ACIR GURGACZ</td>\n",
       "      <td>Locomoção, hospedagem, alimentação, combustíve...</td>\n",
       "      <td>15.896.509/0001-31</td>\n",
       "      <td>POSTO FORTALEZA</td>\n",
       "      <td>018215</td>\n",
       "      <td>07/01/2010</td>\n",
       "      <td>NaN</td>\n",
       "      <td>30.0</td>\n",
       "      <td>268265.0</td>\n",
       "    </tr>\n",
       "  </tbody>\n",
       "</table>\n",
       "</div>"
      ],
      "text/plain": [
       "    ANO  MES       SENADOR                                       TIPO_DESPESA  \\\n",
       "0  2010    1  ACIR GURGACZ  Aluguel de imóveis para escritório político, c...   \n",
       "1  2010    1  ACIR GURGACZ  Aluguel de imóveis para escritório político, c...   \n",
       "2  2010    1  ACIR GURGACZ  Aluguel de imóveis para escritório político, c...   \n",
       "3  2010    1  ACIR GURGACZ                Divulgação da atividade parlamentar   \n",
       "4  2010    1  ACIR GURGACZ  Locomoção, hospedagem, alimentação, combustíve...   \n",
       "\n",
       "             CNPJ_CPF                      FORNECEDOR  DOCUMENTO        DATA  \\\n",
       "0  05.914.650/0001-66  CENTRAIS ELÉTRICAS DE RONDÔNIA   045216-3  19/01/2010   \n",
       "1  05.914.650/0001-66  CENTRAIS ELÉTRICAS DE RONDônia  0454206-1  19/01/2010   \n",
       "2      004.948.028-63   GILBERTO PISELO DO NASCIMENTO        NaN  12/01/2010   \n",
       "3  09.040.457/0001-02            CENTRAL RONDÔNIA.COM     000003  05/01/2010   \n",
       "4  15.896.509/0001-31                 POSTO FORTALEZA     018215  07/01/2010   \n",
       "\n",
       "  DETALHAMENTO VALOR_REEMBOLSADO  COD_DOCUMENTO  \n",
       "0          NaN             59.08       277219.0  \n",
       "1          NaN             40.47       277218.0  \n",
       "2          NaN            5000.0       229109.0  \n",
       "3          NaN            1500.0       268264.0  \n",
       "4          NaN              30.0       268265.0  "
      ]
     },
     "execution_count": 3,
     "metadata": {},
     "output_type": "execute_result"
    }
   ],
   "source": [
    "dados_ceaps.head() # Utilizamos .head() para verificar as primeiras 5 linhas do nosso conjunto de dados"
   ]
  },
  {
   "cell_type": "code",
   "execution_count": 4,
   "id": "e78ec376-e440-4465-87e3-1d948d57f03d",
   "metadata": {},
   "outputs": [
    {
     "data": {
      "text/html": [
       "<div>\n",
       "<style scoped>\n",
       "    .dataframe tbody tr th:only-of-type {\n",
       "        vertical-align: middle;\n",
       "    }\n",
       "\n",
       "    .dataframe tbody tr th {\n",
       "        vertical-align: top;\n",
       "    }\n",
       "\n",
       "    .dataframe thead th {\n",
       "        text-align: right;\n",
       "    }\n",
       "</style>\n",
       "<table border=\"1\" class=\"dataframe\">\n",
       "  <thead>\n",
       "    <tr style=\"text-align: right;\">\n",
       "      <th></th>\n",
       "      <th>ANO</th>\n",
       "      <th>MES</th>\n",
       "      <th>SENADOR</th>\n",
       "      <th>TIPO_DESPESA</th>\n",
       "      <th>CNPJ_CPF</th>\n",
       "      <th>FORNECEDOR</th>\n",
       "      <th>DOCUMENTO</th>\n",
       "      <th>DATA</th>\n",
       "      <th>DETALHAMENTO</th>\n",
       "      <th>VALOR_REEMBOLSADO</th>\n",
       "      <th>COD_DOCUMENTO</th>\n",
       "    </tr>\n",
       "  </thead>\n",
       "  <tbody>\n",
       "    <tr>\n",
       "      <th>286383</th>\n",
       "      <td>2022</td>\n",
       "      <td>4</td>\n",
       "      <td>ZEQUINHA MARINHO</td>\n",
       "      <td>Passagens aéreas, aquáticas e terrestres nacio...</td>\n",
       "      <td>22.052.777/0001-32</td>\n",
       "      <td>Exceller Tour</td>\n",
       "      <td>FXMSVF</td>\n",
       "      <td>02/04/2022</td>\n",
       "      <td>Companhia Aérea: LATAM, Localizador: FXMSVF. P...</td>\n",
       "      <td>1361.66</td>\n",
       "      <td>2177783.0</td>\n",
       "    </tr>\n",
       "    <tr>\n",
       "      <th>286384</th>\n",
       "      <td>2022</td>\n",
       "      <td>4</td>\n",
       "      <td>ZEQUINHA MARINHO</td>\n",
       "      <td>Passagens aéreas, aquáticas e terrestres nacio...</td>\n",
       "      <td>22.052.777/0001-32</td>\n",
       "      <td>Exceller Tour</td>\n",
       "      <td>VLNWSC</td>\n",
       "      <td>02/04/2022</td>\n",
       "      <td>Companhia Aérea: LATAM, Localizador: VLNWSC. P...</td>\n",
       "      <td>2723.23</td>\n",
       "      <td>2177780.0</td>\n",
       "    </tr>\n",
       "    <tr>\n",
       "      <th>286385</th>\n",
       "      <td>2022</td>\n",
       "      <td>4</td>\n",
       "      <td>ZEQUINHA MARINHO</td>\n",
       "      <td>Passagens aéreas, aquáticas e terrestres nacio...</td>\n",
       "      <td>22.052.777/0001-32</td>\n",
       "      <td>Exceller Tour</td>\n",
       "      <td>QVOLRY</td>\n",
       "      <td>04/04/2022</td>\n",
       "      <td>Companhia Aérea: GOL, Localizador: QVOLRY. Pas...</td>\n",
       "      <td>1681.23</td>\n",
       "      <td>2177794.0</td>\n",
       "    </tr>\n",
       "    <tr>\n",
       "      <th>286386</th>\n",
       "      <td>2022</td>\n",
       "      <td>4</td>\n",
       "      <td>ZEQUINHA MARINHO</td>\n",
       "      <td>Passagens aéreas, aquáticas e terrestres nacio...</td>\n",
       "      <td>22.052.777/0001-32</td>\n",
       "      <td>Exceller Tour</td>\n",
       "      <td>JBHH5Y</td>\n",
       "      <td>06/04/2022</td>\n",
       "      <td>Companhia Aérea: AZUL, Localizador: JBHH5Y. Pa...</td>\n",
       "      <td>1663.61</td>\n",
       "      <td>2177879.0</td>\n",
       "    </tr>\n",
       "    <tr>\n",
       "      <th>286387</th>\n",
       "      <td>2022</td>\n",
       "      <td>4</td>\n",
       "      <td>ZEQUINHA MARINHO</td>\n",
       "      <td>Passagens aéreas, aquáticas e terrestres nacio...</td>\n",
       "      <td>22.052.777/0001-32</td>\n",
       "      <td>Exceller Tour</td>\n",
       "      <td>FRFFFI</td>\n",
       "      <td>06/04/2022</td>\n",
       "      <td>Companhia Aérea: LATAM, Localizador: FRFFFI. P...</td>\n",
       "      <td>2324.0</td>\n",
       "      <td>2177912.0</td>\n",
       "    </tr>\n",
       "  </tbody>\n",
       "</table>\n",
       "</div>"
      ],
      "text/plain": [
       "         ANO  MES           SENADOR  \\\n",
       "286383  2022    4  ZEQUINHA MARINHO   \n",
       "286384  2022    4  ZEQUINHA MARINHO   \n",
       "286385  2022    4  ZEQUINHA MARINHO   \n",
       "286386  2022    4  ZEQUINHA MARINHO   \n",
       "286387  2022    4  ZEQUINHA MARINHO   \n",
       "\n",
       "                                             TIPO_DESPESA            CNPJ_CPF  \\\n",
       "286383  Passagens aéreas, aquáticas e terrestres nacio...  22.052.777/0001-32   \n",
       "286384  Passagens aéreas, aquáticas e terrestres nacio...  22.052.777/0001-32   \n",
       "286385  Passagens aéreas, aquáticas e terrestres nacio...  22.052.777/0001-32   \n",
       "286386  Passagens aéreas, aquáticas e terrestres nacio...  22.052.777/0001-32   \n",
       "286387  Passagens aéreas, aquáticas e terrestres nacio...  22.052.777/0001-32   \n",
       "\n",
       "           FORNECEDOR DOCUMENTO        DATA  \\\n",
       "286383  Exceller Tour    FXMSVF  02/04/2022   \n",
       "286384  Exceller Tour    VLNWSC  02/04/2022   \n",
       "286385  Exceller Tour    QVOLRY  04/04/2022   \n",
       "286386  Exceller Tour    JBHH5Y  06/04/2022   \n",
       "286387  Exceller Tour    FRFFFI  06/04/2022   \n",
       "\n",
       "                                             DETALHAMENTO VALOR_REEMBOLSADO  \\\n",
       "286383  Companhia Aérea: LATAM, Localizador: FXMSVF. P...           1361.66   \n",
       "286384  Companhia Aérea: LATAM, Localizador: VLNWSC. P...           2723.23   \n",
       "286385  Companhia Aérea: GOL, Localizador: QVOLRY. Pas...           1681.23   \n",
       "286386  Companhia Aérea: AZUL, Localizador: JBHH5Y. Pa...           1663.61   \n",
       "286387  Companhia Aérea: LATAM, Localizador: FRFFFI. P...            2324.0   \n",
       "\n",
       "        COD_DOCUMENTO  \n",
       "286383      2177783.0  \n",
       "286384      2177780.0  \n",
       "286385      2177794.0  \n",
       "286386      2177879.0  \n",
       "286387      2177912.0  "
      ]
     },
     "execution_count": 4,
     "metadata": {},
     "output_type": "execute_result"
    }
   ],
   "source": [
    "dados_ceaps.tail() # Utilizamos .tail() para verificar a ultimas 5 linhas dos nossos dados"
   ]
  },
  {
   "cell_type": "markdown",
   "id": "f3fa6eef-5355-46a2-90ae-00b4c0d7f570",
   "metadata": {},
   "source": [
    "### Quantas informações ausentes temos?"
   ]
  },
  {
   "cell_type": "code",
   "execution_count": 5,
   "id": "55fdb29e-eace-49e6-9022-b84faa7a812a",
   "metadata": {},
   "outputs": [
    {
     "data": {
      "text/plain": [
       "ANO                       0\n",
       "MES                       0\n",
       "SENADOR                   0\n",
       "TIPO_DESPESA              0\n",
       "CNPJ_CPF                  0\n",
       "FORNECEDOR                0\n",
       "DOCUMENTO             19502\n",
       "DATA                      0\n",
       "DETALHAMENTO         112713\n",
       "VALOR_REEMBOLSADO         0\n",
       "COD_DOCUMENTO             2\n",
       "dtype: int64"
      ]
     },
     "execution_count": 5,
     "metadata": {},
     "output_type": "execute_result"
    }
   ],
   "source": [
    "dados_ceaps.isnull().sum()"
   ]
  },
  {
   "cell_type": "markdown",
   "id": "bf80f045-cf6a-42e1-8bab-c961d1c811d8",
   "metadata": {},
   "source": [
    "Pode ser útil ver qual porcentagem dos valores em nosso conjunto de dados esta faltando para nos dar uma ideia melhor da escala desse problema:"
   ]
  },
  {
   "cell_type": "code",
   "execution_count": 6,
   "id": "668d5761-e967-4047-972c-3d9dc87ea85a",
   "metadata": {},
   "outputs": [
    {
     "data": {
      "text/plain": [
       "ANO                   0.000000\n",
       "MES                   0.000000\n",
       "SENADOR               0.000000\n",
       "TIPO_DESPESA          0.000000\n",
       "CNPJ_CPF              0.000000\n",
       "FORNECEDOR            0.000000\n",
       "DOCUMENTO             6.809643\n",
       "DATA                  0.000000\n",
       "DETALHAMENTO         39.356747\n",
       "VALOR_REEMBOLSADO     0.000000\n",
       "COD_DOCUMENTO         0.000698\n",
       "dtype: float64"
      ]
     },
     "execution_count": 6,
     "metadata": {},
     "output_type": "execute_result"
    }
   ],
   "source": [
    "# Porcentagem dos dados ausentes\n",
    "dados_ceaps.isnull().sum()/dados_ceaps.shape[0]*100"
   ]
  },
  {
   "cell_type": "markdown",
   "id": "cf246a4e-e0ee-453a-8eda-543989890622",
   "metadata": {
    "tags": []
   },
   "source": [
    "### Quantas informações duplicadas temos?\n",
    "\n",
    "Vamos utilizar a coluna COD_DOCUMENTO para verificar por informações duplicadas"
   ]
  },
  {
   "cell_type": "code",
   "execution_count": 7,
   "id": "c241cb0c-1589-45bb-b64e-7ce9a1cf0141",
   "metadata": {},
   "outputs": [
    {
     "data": {
      "text/html": [
       "<div>\n",
       "<style scoped>\n",
       "    .dataframe tbody tr th:only-of-type {\n",
       "        vertical-align: middle;\n",
       "    }\n",
       "\n",
       "    .dataframe tbody tr th {\n",
       "        vertical-align: top;\n",
       "    }\n",
       "\n",
       "    .dataframe thead th {\n",
       "        text-align: right;\n",
       "    }\n",
       "</style>\n",
       "<table border=\"1\" class=\"dataframe\">\n",
       "  <thead>\n",
       "    <tr style=\"text-align: right;\">\n",
       "      <th></th>\n",
       "      <th>ANO</th>\n",
       "      <th>MES</th>\n",
       "      <th>SENADOR</th>\n",
       "      <th>TIPO_DESPESA</th>\n",
       "      <th>CNPJ_CPF</th>\n",
       "      <th>FORNECEDOR</th>\n",
       "      <th>DOCUMENTO</th>\n",
       "      <th>DATA</th>\n",
       "      <th>DETALHAMENTO</th>\n",
       "      <th>VALOR_REEMBOLSADO</th>\n",
       "      <th>COD_DOCUMENTO</th>\n",
       "    </tr>\n",
       "  </thead>\n",
       "  <tbody>\n",
       "    <tr>\n",
       "      <th>131284</th>\n",
       "      <td>2015</td>\n",
       "      <td>8</td>\n",
       "      <td>EDUARDO AMORIM</td>\n",
       "      <td>Passagens aéreas, aquáticas e terrestres nacio...</td>\n",
       "      <td>13.353.495/0001-84</td>\n",
       "      <td>PROPAGTUR - Propag Turismo Ltda</td>\n",
       "      <td>SEM FATURA\";02/08/2015\"</td>\n",
       "      <td>Companhia Aérea: TAM, Localizador: YXGDSJ. Pas...</td>\n",
       "      <td>469,53</td>\n",
       "      <td>2014675.0</td>\n",
       "      <td>NaN</td>\n",
       "    </tr>\n",
       "    <tr>\n",
       "      <th>131291</th>\n",
       "      <td>2015</td>\n",
       "      <td>8</td>\n",
       "      <td>EDUARDO AMORIM</td>\n",
       "      <td>Passagens aéreas, aquáticas e terrestres nacio...</td>\n",
       "      <td>13.353.495/0001-84</td>\n",
       "      <td>PROPAGTUR - Propag Turismo Ltda</td>\n",
       "      <td>¨¨SEM FATURA\";17/08/2015\"</td>\n",
       "      <td>Companhia Aérea: AVIANCA, Localizador: ZNEU9F....</td>\n",
       "      <td>460,45</td>\n",
       "      <td>2016557.0</td>\n",
       "      <td>NaN</td>\n",
       "    </tr>\n",
       "  </tbody>\n",
       "</table>\n",
       "</div>"
      ],
      "text/plain": [
       "         ANO  MES         SENADOR  \\\n",
       "131284  2015    8  EDUARDO AMORIM   \n",
       "131291  2015    8  EDUARDO AMORIM   \n",
       "\n",
       "                                             TIPO_DESPESA            CNPJ_CPF  \\\n",
       "131284  Passagens aéreas, aquáticas e terrestres nacio...  13.353.495/0001-84   \n",
       "131291  Passagens aéreas, aquáticas e terrestres nacio...  13.353.495/0001-84   \n",
       "\n",
       "                             FORNECEDOR                  DOCUMENTO  \\\n",
       "131284  PROPAGTUR - Propag Turismo Ltda    SEM FATURA\";02/08/2015\"   \n",
       "131291  PROPAGTUR - Propag Turismo Ltda  ¨¨SEM FATURA\";17/08/2015\"   \n",
       "\n",
       "                                                     DATA DETALHAMENTO  \\\n",
       "131284  Companhia Aérea: TAM, Localizador: YXGDSJ. Pas...       469,53   \n",
       "131291  Companhia Aérea: AVIANCA, Localizador: ZNEU9F....       460,45   \n",
       "\n",
       "       VALOR_REEMBOLSADO  COD_DOCUMENTO  \n",
       "131284         2014675.0            NaN  \n",
       "131291         2016557.0            NaN  "
      ]
     },
     "execution_count": 7,
     "metadata": {},
     "output_type": "execute_result"
    }
   ],
   "source": [
    "dados_ceaps[dados_ceaps['COD_DOCUMENTO'].duplicated(keep=False)]"
   ]
  },
  {
   "cell_type": "markdown",
   "id": "b565e17d-a39a-4875-9e03-32980d37444b",
   "metadata": {},
   "source": [
    "Nessas linhas a coluna COD_DOCUMENTO ficou sem dados por conta de uma má formatação do arquivo. A coluna DOCUMENTO ficou com 2 informações separadas por \";\"\n",
    "\n",
    "\n",
    "Como são apenas duas linhas é mais eficiente corrigir manualmente"
   ]
  },
  {
   "cell_type": "code",
   "execution_count": 8,
   "id": "480e40d0-974d-4a1e-8eff-d17e7e4bc5a8",
   "metadata": {},
   "outputs": [
    {
     "data": {
      "text/html": [
       "<div>\n",
       "<style scoped>\n",
       "    .dataframe tbody tr th:only-of-type {\n",
       "        vertical-align: middle;\n",
       "    }\n",
       "\n",
       "    .dataframe tbody tr th {\n",
       "        vertical-align: top;\n",
       "    }\n",
       "\n",
       "    .dataframe thead th {\n",
       "        text-align: right;\n",
       "    }\n",
       "</style>\n",
       "<table border=\"1\" class=\"dataframe\">\n",
       "  <thead>\n",
       "    <tr style=\"text-align: right;\">\n",
       "      <th></th>\n",
       "      <th>ANO</th>\n",
       "      <th>MES</th>\n",
       "      <th>SENADOR</th>\n",
       "      <th>TIPO_DESPESA</th>\n",
       "      <th>CNPJ_CPF</th>\n",
       "      <th>FORNECEDOR</th>\n",
       "      <th>DOCUMENTO</th>\n",
       "      <th>DATA</th>\n",
       "      <th>DETALHAMENTO</th>\n",
       "      <th>VALOR_REEMBOLSADO</th>\n",
       "      <th>COD_DOCUMENTO</th>\n",
       "    </tr>\n",
       "  </thead>\n",
       "  <tbody>\n",
       "    <tr>\n",
       "      <th>131284</th>\n",
       "      <td>2015</td>\n",
       "      <td>8</td>\n",
       "      <td>EDUARDO AMORIM</td>\n",
       "      <td>Passagens aéreas, aquáticas e terrestres nacio...</td>\n",
       "      <td>13.353.495/0001-84</td>\n",
       "      <td>PROPAGTUR - Propag Turismo Ltda</td>\n",
       "      <td>SEM FATURA</td>\n",
       "      <td>02/08/2015</td>\n",
       "      <td>Companhia Aérea: TAM, Localizador: YXGDSJ. Pas...</td>\n",
       "      <td>469,53</td>\n",
       "      <td>2014675.0</td>\n",
       "    </tr>\n",
       "    <tr>\n",
       "      <th>131291</th>\n",
       "      <td>2015</td>\n",
       "      <td>8</td>\n",
       "      <td>EDUARDO AMORIM</td>\n",
       "      <td>Passagens aéreas, aquáticas e terrestres nacio...</td>\n",
       "      <td>13.353.495/0001-84</td>\n",
       "      <td>PROPAGTUR - Propag Turismo Ltda</td>\n",
       "      <td>SEM FATURA</td>\n",
       "      <td>17/08/2015</td>\n",
       "      <td>Companhia Aérea: AVIANCA, Localizador: ZNEU9F....</td>\n",
       "      <td>460,45</td>\n",
       "      <td>2016557.0</td>\n",
       "    </tr>\n",
       "  </tbody>\n",
       "</table>\n",
       "</div>"
      ],
      "text/plain": [
       "         ANO  MES         SENADOR  \\\n",
       "131284  2015    8  EDUARDO AMORIM   \n",
       "131291  2015    8  EDUARDO AMORIM   \n",
       "\n",
       "                                             TIPO_DESPESA            CNPJ_CPF  \\\n",
       "131284  Passagens aéreas, aquáticas e terrestres nacio...  13.353.495/0001-84   \n",
       "131291  Passagens aéreas, aquáticas e terrestres nacio...  13.353.495/0001-84   \n",
       "\n",
       "                             FORNECEDOR   DOCUMENTO        DATA  \\\n",
       "131284  PROPAGTUR - Propag Turismo Ltda  SEM FATURA  02/08/2015   \n",
       "131291  PROPAGTUR - Propag Turismo Ltda  SEM FATURA  17/08/2015   \n",
       "\n",
       "                                             DETALHAMENTO VALOR_REEMBOLSADO  \\\n",
       "131284  Companhia Aérea: TAM, Localizador: YXGDSJ. Pas...            469,53   \n",
       "131291  Companhia Aérea: AVIANCA, Localizador: ZNEU9F....            460,45   \n",
       "\n",
       "        COD_DOCUMENTO  \n",
       "131284      2014675.0  \n",
       "131291      2016557.0  "
      ]
     },
     "execution_count": 8,
     "metadata": {},
     "output_type": "execute_result"
    }
   ],
   "source": [
    "duplicado = 131284\n",
    "\n",
    "dados_ceaps.loc[duplicado, 'COD_DOCUMENTO'] = dados_ceaps.loc[duplicado, 'VALOR_REEMBOLSADO']\n",
    "dados_ceaps.loc[duplicado, 'VALOR_REEMBOLSADO'] = dados_ceaps.loc[duplicado, 'DETALHAMENTO']\n",
    "dados_ceaps.loc[duplicado, 'DETALHAMENTO'] = dados_ceaps.loc[duplicado, 'DATA']\n",
    "dados_ceaps.loc[duplicado, 'DATA'] = '02/08/2015'\n",
    "dados_ceaps.loc[duplicado, 'DOCUMENTO'] = 'SEM FATURA'\n",
    "\n",
    "duplicado = 131291\n",
    "\n",
    "dados_ceaps.loc[duplicado, 'COD_DOCUMENTO'] = dados_ceaps.loc[duplicado, 'VALOR_REEMBOLSADO']\n",
    "dados_ceaps.loc[duplicado, 'VALOR_REEMBOLSADO'] = dados_ceaps.loc[duplicado, 'DETALHAMENTO']\n",
    "dados_ceaps.loc[duplicado, 'DETALHAMENTO'] = dados_ceaps.loc[duplicado, 'DATA']\n",
    "dados_ceaps.loc[duplicado, 'DATA'] = '17/08/2015'\n",
    "dados_ceaps.loc[duplicado, 'DOCUMENTO'] = 'SEM FATURA'\n",
    "\n",
    "dados_ceaps.loc[[131284, 131291]]"
   ]
  },
  {
   "cell_type": "code",
   "execution_count": 9,
   "id": "dbea7fa5-529f-4091-ba73-7cd8562ebed9",
   "metadata": {},
   "outputs": [
    {
     "data": {
      "text/html": [
       "<div>\n",
       "<style scoped>\n",
       "    .dataframe tbody tr th:only-of-type {\n",
       "        vertical-align: middle;\n",
       "    }\n",
       "\n",
       "    .dataframe tbody tr th {\n",
       "        vertical-align: top;\n",
       "    }\n",
       "\n",
       "    .dataframe thead th {\n",
       "        text-align: right;\n",
       "    }\n",
       "</style>\n",
       "<table border=\"1\" class=\"dataframe\">\n",
       "  <thead>\n",
       "    <tr style=\"text-align: right;\">\n",
       "      <th></th>\n",
       "      <th>ANO</th>\n",
       "      <th>MES</th>\n",
       "      <th>SENADOR</th>\n",
       "      <th>TIPO_DESPESA</th>\n",
       "      <th>CNPJ_CPF</th>\n",
       "      <th>FORNECEDOR</th>\n",
       "      <th>DOCUMENTO</th>\n",
       "      <th>DATA</th>\n",
       "      <th>DETALHAMENTO</th>\n",
       "      <th>VALOR_REEMBOLSADO</th>\n",
       "      <th>COD_DOCUMENTO</th>\n",
       "    </tr>\n",
       "  </thead>\n",
       "  <tbody>\n",
       "  </tbody>\n",
       "</table>\n",
       "</div>"
      ],
      "text/plain": [
       "Empty DataFrame\n",
       "Columns: [ANO, MES, SENADOR, TIPO_DESPESA, CNPJ_CPF, FORNECEDOR, DOCUMENTO, DATA, DETALHAMENTO, VALOR_REEMBOLSADO, COD_DOCUMENTO]\n",
       "Index: []"
      ]
     },
     "execution_count": 9,
     "metadata": {},
     "output_type": "execute_result"
    }
   ],
   "source": [
    "dados_ceaps[dados_ceaps['COD_DOCUMENTO'].duplicated(keep=False)]"
   ]
  },
  {
   "cell_type": "markdown",
   "id": "4795f50f-4698-4d70-b5ff-492049c91ce5",
   "metadata": {
    "tags": []
   },
   "source": [
    "### Descobrir por que estão faltando dados\n",
    "\n",
    "Em nossa exploração inicial dados percebemos que apenas as colunas *DOCUMENTO* e *DETALHAMENTO* contém dados vazios e não há duplicações. Vamos excluir também as colunas *DOCUMENTO* e *COD_DOCUMENTO*, pois não acrescentam nas informações sobre os gastos.\n",
    "\n",
    "A coluna *DETALHAMENTO* nos da detalhes sobre o tipo de despesa do senador. Ela pode ser útil em uma análise exploratória ou aplicação de modelo.\n",
    "Então podemos preencher os dados vazios da coluna *DETALHAMENTO* com informações contida na coluna *TIPO_DESPESA*"
   ]
  },
  {
   "cell_type": "code",
   "execution_count": 10,
   "id": "28fc2a20-a405-4945-b552-0a028bab3fcf",
   "metadata": {},
   "outputs": [],
   "source": [
    "dados_copia = dados_ceaps.copy # Cópia dos dados\n",
    "\n",
    "dados_ceaps = dados_ceaps.drop(columns = ['DOCUMENTO', 'COD_DOCUMENTO']) # removendo DOCUMENTO E COD_DOCUMENTO\n",
    "\n",
    "dados_ceaps.loc[dados_ceaps['DETALHAMENTO'].isnull(), 'DETALHAMENTO'] = dados_ceaps[dados_ceaps['DETALHAMENTO'].isnull()]['TIPO_DESPESA'] # preenchendo dados ausentes"
   ]
  },
  {
   "cell_type": "code",
   "execution_count": 11,
   "id": "30a6edab-9ec6-4137-b439-7d1805c4bdc8",
   "metadata": {},
   "outputs": [
    {
     "data": {
      "text/plain": [
       "ANO                  0\n",
       "MES                  0\n",
       "SENADOR              0\n",
       "TIPO_DESPESA         0\n",
       "CNPJ_CPF             0\n",
       "FORNECEDOR           0\n",
       "DATA                 0\n",
       "DETALHAMENTO         0\n",
       "VALOR_REEMBOLSADO    0\n",
       "dtype: int64"
      ]
     },
     "execution_count": 11,
     "metadata": {},
     "output_type": "execute_result"
    }
   ],
   "source": [
    "# Verificando se ainda existem dados ausentes\n",
    "dados_ceaps.isnull().sum()"
   ]
  },
  {
   "cell_type": "markdown",
   "id": "4ed85688-2d70-4792-88c9-739616d7a555",
   "metadata": {},
   "source": [
    "### Verificando o tipo de dados das nossas colunas utilizando .dtypes()"
   ]
  },
  {
   "cell_type": "code",
   "execution_count": 12,
   "id": "4a4d6227-94b9-44cf-9876-5ff3ab1dafa7",
   "metadata": {},
   "outputs": [
    {
     "data": {
      "text/plain": [
       "ANO                   int64\n",
       "MES                   int64\n",
       "SENADOR              object\n",
       "TIPO_DESPESA         object\n",
       "CNPJ_CPF             object\n",
       "FORNECEDOR           object\n",
       "DATA                 object\n",
       "DETALHAMENTO         object\n",
       "VALOR_REEMBOLSADO    object\n",
       "dtype: object"
      ]
     },
     "execution_count": 12,
     "metadata": {},
     "output_type": "execute_result"
    }
   ],
   "source": [
    "dados_ceaps.dtypes"
   ]
  },
  {
   "cell_type": "markdown",
   "id": "694faa77-d33c-4584-b678-44cb5f471fe5",
   "metadata": {},
   "source": [
    "2 colunas estão com formatos incorretos.\n",
    "Vamos corrigi-las.\n",
    "\n",
    ">*DATA* `object` para `DateType`\n",
    "\n",
    "Em uma primeira análise percebi que muitos dados contidos em DATA estão com formato incorreto, apresentando inconsistências com as colunas 'ANO' e 'MES'"
   ]
  },
  {
   "cell_type": "code",
   "execution_count": 13,
   "id": "bda84b89-7dd0-456b-bef6-175008dfbf45",
   "metadata": {},
   "outputs": [
    {
     "data": {
      "text/plain": [
       "135720   NaT\n",
       "137188   NaT\n",
       "137541   NaT\n",
       "143923   NaT\n",
       "143927   NaT\n",
       "148328   NaT\n",
       "153609   NaT\n",
       "163856   NaT\n",
       "165036   NaT\n",
       "165151   NaT\n",
       "169396   NaT\n",
       "184799   NaT\n",
       "193933   NaT\n",
       "194164   NaT\n",
       "196713   NaT\n",
       "204631   NaT\n",
       "219150   NaT\n",
       "221768   NaT\n",
       "240687   NaT\n",
       "261697   NaT\n",
       "267571   NaT\n",
       "Name: DATA, dtype: datetime64[ns]"
      ]
     },
     "execution_count": 13,
     "metadata": {},
     "output_type": "execute_result"
    }
   ],
   "source": [
    "fix_data = pd.to_datetime(dados_ceaps['DATA'], dayfirst=True, errors='coerce')\n",
    "fix_data[fix_data.isna()]"
   ]
  },
  {
   "cell_type": "markdown",
   "id": "8c200219-672c-4b83-8224-38ef38a83b7a",
   "metadata": {},
   "source": [
    "Vamos substituir a coluna referente a data com as informações de 'ANO' e 'MES'"
   ]
  },
  {
   "cell_type": "code",
   "execution_count": 15,
   "id": "13ffafec-b1a0-4c43-bcd3-b4f9a22fe5a1",
   "metadata": {},
   "outputs": [],
   "source": [
    "dados_ceaps['DATA'] = dados_ceaps.apply(lambda x: '010'+str(x['MES'])+str(x['ANO']) if x['MES'] < 10 else '01'+str(x['MES'])+str(x['ANO']), axis=1)\n",
    "\n",
    "dados_ceaps['DATA'] = pd.to_datetime(dados_ceaps['DATA'], format='%d%m%Y').dt.normalize()"
   ]
  },
  {
   "cell_type": "markdown",
   "id": "1405db03-5f4b-4f21-a6c9-8d3bdebc9f90",
   "metadata": {},
   "source": [
    "Como já criamos uma nova coluna 'DATA' não precisaremos das colunas 'ANO' e 'MES'"
   ]
  },
  {
   "cell_type": "code",
   "execution_count": 16,
   "id": "5c05056e-c4d4-40b1-a625-4d544d1bba00",
   "metadata": {},
   "outputs": [],
   "source": [
    "dados_ceaps = dados_ceaps.drop(columns = ['ANO', 'MES'])"
   ]
  },
  {
   "cell_type": "code",
   "execution_count": 17,
   "id": "540891ab-cea5-4656-b305-685258888ae6",
   "metadata": {},
   "outputs": [
    {
     "data": {
      "text/html": [
       "<div>\n",
       "<style scoped>\n",
       "    .dataframe tbody tr th:only-of-type {\n",
       "        vertical-align: middle;\n",
       "    }\n",
       "\n",
       "    .dataframe tbody tr th {\n",
       "        vertical-align: top;\n",
       "    }\n",
       "\n",
       "    .dataframe thead th {\n",
       "        text-align: right;\n",
       "    }\n",
       "</style>\n",
       "<table border=\"1\" class=\"dataframe\">\n",
       "  <thead>\n",
       "    <tr style=\"text-align: right;\">\n",
       "      <th></th>\n",
       "      <th>SENADOR</th>\n",
       "      <th>TIPO_DESPESA</th>\n",
       "      <th>CNPJ_CPF</th>\n",
       "      <th>FORNECEDOR</th>\n",
       "      <th>DATA</th>\n",
       "      <th>DETALHAMENTO</th>\n",
       "      <th>VALOR_REEMBOLSADO</th>\n",
       "    </tr>\n",
       "  </thead>\n",
       "  <tbody>\n",
       "    <tr>\n",
       "      <th>0</th>\n",
       "      <td>ACIR GURGACZ</td>\n",
       "      <td>Aluguel de imóveis para escritório político, c...</td>\n",
       "      <td>05.914.650/0001-66</td>\n",
       "      <td>CENTRAIS ELÉTRICAS DE RONDÔNIA</td>\n",
       "      <td>2010-01-01</td>\n",
       "      <td>Aluguel de imóveis para escritório político, c...</td>\n",
       "      <td>59.08</td>\n",
       "    </tr>\n",
       "    <tr>\n",
       "      <th>12945</th>\n",
       "      <td>MOZARILDO CAVALCANTI</td>\n",
       "      <td>Aluguel de imóveis para escritório político, c...</td>\n",
       "      <td>33.000.118/0008-45</td>\n",
       "      <td>Telemar Norte Leste S/A.</td>\n",
       "      <td>2010-01-01</td>\n",
       "      <td>Aluguel de imóveis para escritório político, c...</td>\n",
       "      <td>126.94</td>\n",
       "    </tr>\n",
       "    <tr>\n",
       "      <th>12944</th>\n",
       "      <td>MOZARILDO CAVALCANTI</td>\n",
       "      <td>Aluguel de imóveis para escritório político, c...</td>\n",
       "      <td>33.000.118/0008-45</td>\n",
       "      <td>Telemar Norte Leste S/A.</td>\n",
       "      <td>2010-01-01</td>\n",
       "      <td>Aluguel de imóveis para escritório político, c...</td>\n",
       "      <td>80.59</td>\n",
       "    </tr>\n",
       "    <tr>\n",
       "      <th>12943</th>\n",
       "      <td>MOZARILDO CAVALCANTI</td>\n",
       "      <td>Aluguel de imóveis para escritório político, c...</td>\n",
       "      <td>72.820.822/0027-69</td>\n",
       "      <td>Sky Brasil Serviços Ltda.</td>\n",
       "      <td>2010-01-01</td>\n",
       "      <td>Aluguel de imóveis para escritório político, c...</td>\n",
       "      <td>95.9</td>\n",
       "    </tr>\n",
       "    <tr>\n",
       "      <th>12942</th>\n",
       "      <td>MOZARILDO CAVALCANTI</td>\n",
       "      <td>Aluguel de imóveis para escritório político, c...</td>\n",
       "      <td>33.530.486/0001-29</td>\n",
       "      <td>Empresa Brasileira de Telecomunicações S/A</td>\n",
       "      <td>2010-01-01</td>\n",
       "      <td>Aluguel de imóveis para escritório político, c...</td>\n",
       "      <td>6.36</td>\n",
       "    </tr>\n",
       "    <tr>\n",
       "      <th>...</th>\n",
       "      <td>...</td>\n",
       "      <td>...</td>\n",
       "      <td>...</td>\n",
       "      <td>...</td>\n",
       "      <td>...</td>\n",
       "      <td>...</td>\n",
       "      <td>...</td>\n",
       "    </tr>\n",
       "    <tr>\n",
       "      <th>286029</th>\n",
       "      <td>TELMÁRIO MOTA</td>\n",
       "      <td>Aluguel de imóveis para escritório político, c...</td>\n",
       "      <td>717.750.992-53</td>\n",
       "      <td>HELEN ALICE COSTA DA SILVA</td>\n",
       "      <td>2022-04-01</td>\n",
       "      <td>Aluguel de imóveis para escritório político, c...</td>\n",
       "      <td>3100.0</td>\n",
       "    </tr>\n",
       "    <tr>\n",
       "      <th>284464</th>\n",
       "      <td>JORGINHO MELLO</td>\n",
       "      <td>Aluguel de imóveis para escritório político, c...</td>\n",
       "      <td>09.603.809/0001-82</td>\n",
       "      <td>Orcali Serviços de Monitoram Eletronivo Ltda</td>\n",
       "      <td>2022-04-01</td>\n",
       "      <td>Aluguel de imóveis para escritório político, c...</td>\n",
       "      <td>505.78</td>\n",
       "    </tr>\n",
       "    <tr>\n",
       "      <th>283726</th>\n",
       "      <td>FLÁVIO ARNS</td>\n",
       "      <td>Locomoção, hospedagem, alimentação, combustíve...</td>\n",
       "      <td>16.978.175/0001-08</td>\n",
       "      <td>ADRIA VIAGENS E TURISMO LTDA</td>\n",
       "      <td>2022-04-01</td>\n",
       "      <td>Locomoção, hospedagem, alimentação, combustíve...</td>\n",
       "      <td>214.24</td>\n",
       "    </tr>\n",
       "    <tr>\n",
       "      <th>282621</th>\n",
       "      <td>CARLOS PORTINHO</td>\n",
       "      <td>Passagens aéreas, aquáticas e terrestres nacio...</td>\n",
       "      <td>09.296.295/0001-60</td>\n",
       "      <td>AZUL</td>\n",
       "      <td>2022-04-01</td>\n",
       "      <td>Companhia Aérea: AZUL, Localizador: IHLG4G. Pa...</td>\n",
       "      <td>2025.19</td>\n",
       "    </tr>\n",
       "    <tr>\n",
       "      <th>286387</th>\n",
       "      <td>ZEQUINHA MARINHO</td>\n",
       "      <td>Passagens aéreas, aquáticas e terrestres nacio...</td>\n",
       "      <td>22.052.777/0001-32</td>\n",
       "      <td>Exceller Tour</td>\n",
       "      <td>2022-04-01</td>\n",
       "      <td>Companhia Aérea: LATAM, Localizador: FRFFFI. P...</td>\n",
       "      <td>2324.0</td>\n",
       "    </tr>\n",
       "  </tbody>\n",
       "</table>\n",
       "<p>286388 rows × 7 columns</p>\n",
       "</div>"
      ],
      "text/plain": [
       "                     SENADOR  \\\n",
       "0               ACIR GURGACZ   \n",
       "12945   MOZARILDO CAVALCANTI   \n",
       "12944   MOZARILDO CAVALCANTI   \n",
       "12943   MOZARILDO CAVALCANTI   \n",
       "12942   MOZARILDO CAVALCANTI   \n",
       "...                      ...   \n",
       "286029         TELMÁRIO MOTA   \n",
       "284464        JORGINHO MELLO   \n",
       "283726           FLÁVIO ARNS   \n",
       "282621       CARLOS PORTINHO   \n",
       "286387      ZEQUINHA MARINHO   \n",
       "\n",
       "                                             TIPO_DESPESA            CNPJ_CPF  \\\n",
       "0       Aluguel de imóveis para escritório político, c...  05.914.650/0001-66   \n",
       "12945   Aluguel de imóveis para escritório político, c...  33.000.118/0008-45   \n",
       "12944   Aluguel de imóveis para escritório político, c...  33.000.118/0008-45   \n",
       "12943   Aluguel de imóveis para escritório político, c...  72.820.822/0027-69   \n",
       "12942   Aluguel de imóveis para escritório político, c...  33.530.486/0001-29   \n",
       "...                                                   ...                 ...   \n",
       "286029  Aluguel de imóveis para escritório político, c...      717.750.992-53   \n",
       "284464  Aluguel de imóveis para escritório político, c...  09.603.809/0001-82   \n",
       "283726  Locomoção, hospedagem, alimentação, combustíve...  16.978.175/0001-08   \n",
       "282621  Passagens aéreas, aquáticas e terrestres nacio...  09.296.295/0001-60   \n",
       "286387  Passagens aéreas, aquáticas e terrestres nacio...  22.052.777/0001-32   \n",
       "\n",
       "                                          FORNECEDOR       DATA  \\\n",
       "0                     CENTRAIS ELÉTRICAS DE RONDÔNIA 2010-01-01   \n",
       "12945                       Telemar Norte Leste S/A. 2010-01-01   \n",
       "12944                       Telemar Norte Leste S/A. 2010-01-01   \n",
       "12943                      Sky Brasil Serviços Ltda. 2010-01-01   \n",
       "12942     Empresa Brasileira de Telecomunicações S/A 2010-01-01   \n",
       "...                                              ...        ...   \n",
       "286029                    HELEN ALICE COSTA DA SILVA 2022-04-01   \n",
       "284464  Orcali Serviços de Monitoram Eletronivo Ltda 2022-04-01   \n",
       "283726                  ADRIA VIAGENS E TURISMO LTDA 2022-04-01   \n",
       "282621                                          AZUL 2022-04-01   \n",
       "286387                                 Exceller Tour 2022-04-01   \n",
       "\n",
       "                                             DETALHAMENTO VALOR_REEMBOLSADO  \n",
       "0       Aluguel de imóveis para escritório político, c...             59.08  \n",
       "12945   Aluguel de imóveis para escritório político, c...            126.94  \n",
       "12944   Aluguel de imóveis para escritório político, c...             80.59  \n",
       "12943   Aluguel de imóveis para escritório político, c...              95.9  \n",
       "12942   Aluguel de imóveis para escritório político, c...              6.36  \n",
       "...                                                   ...               ...  \n",
       "286029  Aluguel de imóveis para escritório político, c...            3100.0  \n",
       "284464  Aluguel de imóveis para escritório político, c...            505.78  \n",
       "283726  Locomoção, hospedagem, alimentação, combustíve...            214.24  \n",
       "282621  Companhia Aérea: AZUL, Localizador: IHLG4G. Pa...           2025.19  \n",
       "286387  Companhia Aérea: LATAM, Localizador: FRFFFI. P...            2324.0  \n",
       "\n",
       "[286388 rows x 7 columns]"
      ]
     },
     "execution_count": 17,
     "metadata": {},
     "output_type": "execute_result"
    }
   ],
   "source": [
    "dados_ceaps.sort_values(by='DATA')"
   ]
  },
  {
   "cell_type": "markdown",
   "id": "871ddf0d-e87b-48ab-bfdc-03e4aebbf257",
   "metadata": {},
   "source": [
    ">*VALOR_REEMBOLSADO* `object` para `float`"
   ]
  },
  {
   "cell_type": "code",
   "execution_count": 18,
   "id": "16f0567d-9b7e-422c-a395-23226c077391",
   "metadata": {},
   "outputs": [],
   "source": [
    "def to_dot(value):\n",
    "    if type(value) == str:\n",
    "        value = value.replace(',', '.')\n",
    "        value = value.replace(' ', '')\n",
    "        return value\n",
    "    else:\n",
    "        return value\n",
    "    \n",
    "dados_ceaps['VALOR_REEMBOLSADO'] = dados_ceaps['VALOR_REEMBOLSADO'].map(to_dot)  \n",
    "dados_ceaps.loc[97033, 'VALOR_REEMBOLSADO'] = '1675.55' # tratando dado individual que estava como '1\\r\\n675.55'\n",
    "\n",
    "dados_ceaps['VALOR_REEMBOLSADO'] = pd.to_numeric(dados_ceaps['VALOR_REEMBOLSADO'])"
   ]
  },
  {
   "cell_type": "code",
   "execution_count": 23,
   "id": "59e29d55-a217-4a4b-81a6-de8063dba151",
   "metadata": {},
   "outputs": [
    {
     "data": {
      "text/plain": [
       "SENADOR                      object\n",
       "TIPO_DESPESA                 object\n",
       "CNPJ_CPF                     object\n",
       "FORNECEDOR                   object\n",
       "DATA                 datetime64[ns]\n",
       "DETALHAMENTO                 object\n",
       "VALOR_REEMBOLSADO           float64\n",
       "dtype: object"
      ]
     },
     "execution_count": 23,
     "metadata": {},
     "output_type": "execute_result"
    }
   ],
   "source": [
    "dados_ceaps.dtypes"
   ]
  },
  {
   "cell_type": "code",
   "execution_count": 20,
   "id": "9ab2c0de-e809-4ca0-895b-7952a552b276",
   "metadata": {},
   "outputs": [
    {
     "data": {
      "text/html": [
       "<div>\n",
       "<style scoped>\n",
       "    .dataframe tbody tr th:only-of-type {\n",
       "        vertical-align: middle;\n",
       "    }\n",
       "\n",
       "    .dataframe tbody tr th {\n",
       "        vertical-align: top;\n",
       "    }\n",
       "\n",
       "    .dataframe thead th {\n",
       "        text-align: right;\n",
       "    }\n",
       "</style>\n",
       "<table border=\"1\" class=\"dataframe\">\n",
       "  <thead>\n",
       "    <tr style=\"text-align: right;\">\n",
       "      <th></th>\n",
       "      <th>SENADOR</th>\n",
       "      <th>TIPO_DESPESA</th>\n",
       "      <th>CNPJ_CPF</th>\n",
       "      <th>FORNECEDOR</th>\n",
       "      <th>DATA</th>\n",
       "      <th>DETALHAMENTO</th>\n",
       "      <th>VALOR_REEMBOLSADO</th>\n",
       "    </tr>\n",
       "  </thead>\n",
       "  <tbody>\n",
       "    <tr>\n",
       "      <th>0</th>\n",
       "      <td>ACIR GURGACZ</td>\n",
       "      <td>Aluguel de imóveis para escritório político, c...</td>\n",
       "      <td>05.914.650/0001-66</td>\n",
       "      <td>CENTRAIS ELÉTRICAS DE RONDÔNIA</td>\n",
       "      <td>2010-01-01</td>\n",
       "      <td>Aluguel de imóveis para escritório político, c...</td>\n",
       "      <td>59.08</td>\n",
       "    </tr>\n",
       "    <tr>\n",
       "      <th>1</th>\n",
       "      <td>ACIR GURGACZ</td>\n",
       "      <td>Aluguel de imóveis para escritório político, c...</td>\n",
       "      <td>05.914.650/0001-66</td>\n",
       "      <td>CENTRAIS ELÉTRICAS DE RONDônia</td>\n",
       "      <td>2010-01-01</td>\n",
       "      <td>Aluguel de imóveis para escritório político, c...</td>\n",
       "      <td>40.47</td>\n",
       "    </tr>\n",
       "    <tr>\n",
       "      <th>2</th>\n",
       "      <td>ACIR GURGACZ</td>\n",
       "      <td>Aluguel de imóveis para escritório político, c...</td>\n",
       "      <td>004.948.028-63</td>\n",
       "      <td>GILBERTO PISELO DO NASCIMENTO</td>\n",
       "      <td>2010-01-01</td>\n",
       "      <td>Aluguel de imóveis para escritório político, c...</td>\n",
       "      <td>5000.00</td>\n",
       "    </tr>\n",
       "    <tr>\n",
       "      <th>3</th>\n",
       "      <td>ACIR GURGACZ</td>\n",
       "      <td>Divulgação da atividade parlamentar</td>\n",
       "      <td>09.040.457/0001-02</td>\n",
       "      <td>CENTRAL RONDÔNIA.COM</td>\n",
       "      <td>2010-01-01</td>\n",
       "      <td>Divulgação da atividade parlamentar</td>\n",
       "      <td>1500.00</td>\n",
       "    </tr>\n",
       "    <tr>\n",
       "      <th>4</th>\n",
       "      <td>ACIR GURGACZ</td>\n",
       "      <td>Locomoção, hospedagem, alimentação, combustíve...</td>\n",
       "      <td>15.896.509/0001-31</td>\n",
       "      <td>POSTO FORTALEZA</td>\n",
       "      <td>2010-01-01</td>\n",
       "      <td>Locomoção, hospedagem, alimentação, combustíve...</td>\n",
       "      <td>30.00</td>\n",
       "    </tr>\n",
       "  </tbody>\n",
       "</table>\n",
       "</div>"
      ],
      "text/plain": [
       "        SENADOR                                       TIPO_DESPESA  \\\n",
       "0  ACIR GURGACZ  Aluguel de imóveis para escritório político, c...   \n",
       "1  ACIR GURGACZ  Aluguel de imóveis para escritório político, c...   \n",
       "2  ACIR GURGACZ  Aluguel de imóveis para escritório político, c...   \n",
       "3  ACIR GURGACZ                Divulgação da atividade parlamentar   \n",
       "4  ACIR GURGACZ  Locomoção, hospedagem, alimentação, combustíve...   \n",
       "\n",
       "             CNPJ_CPF                      FORNECEDOR       DATA  \\\n",
       "0  05.914.650/0001-66  CENTRAIS ELÉTRICAS DE RONDÔNIA 2010-01-01   \n",
       "1  05.914.650/0001-66  CENTRAIS ELÉTRICAS DE RONDônia 2010-01-01   \n",
       "2      004.948.028-63   GILBERTO PISELO DO NASCIMENTO 2010-01-01   \n",
       "3  09.040.457/0001-02            CENTRAL RONDÔNIA.COM 2010-01-01   \n",
       "4  15.896.509/0001-31                 POSTO FORTALEZA 2010-01-01   \n",
       "\n",
       "                                        DETALHAMENTO  VALOR_REEMBOLSADO  \n",
       "0  Aluguel de imóveis para escritório político, c...              59.08  \n",
       "1  Aluguel de imóveis para escritório político, c...              40.47  \n",
       "2  Aluguel de imóveis para escritório político, c...            5000.00  \n",
       "3                Divulgação da atividade parlamentar            1500.00  \n",
       "4  Locomoção, hospedagem, alimentação, combustíve...              30.00  "
      ]
     },
     "execution_count": 20,
     "metadata": {},
     "output_type": "execute_result"
    }
   ],
   "source": [
    "dados_ceaps.head()"
   ]
  },
  {
   "cell_type": "markdown",
   "id": "2b0b3e0a-4c54-4289-8c36-6446edb3fbbd",
   "metadata": {},
   "source": [
    "### Vamos procurar agora por possíveis incosistências em VALOR_REEMBOLSADO"
   ]
  },
  {
   "cell_type": "code",
   "execution_count": null,
   "id": "ac40e072-c502-4c60-b774-8816880a56d5",
   "metadata": {},
   "outputs": [
    {
     "data": {
      "text/html": [
       "<div>\n",
       "<style scoped>\n",
       "    .dataframe tbody tr th:only-of-type {\n",
       "        vertical-align: middle;\n",
       "    }\n",
       "\n",
       "    .dataframe tbody tr th {\n",
       "        vertical-align: top;\n",
       "    }\n",
       "\n",
       "    .dataframe thead th {\n",
       "        text-align: right;\n",
       "    }\n",
       "</style>\n",
       "<table border=\"1\" class=\"dataframe\">\n",
       "  <thead>\n",
       "    <tr style=\"text-align: right;\">\n",
       "      <th></th>\n",
       "      <th>VALOR_REEMBOLSADO</th>\n",
       "    </tr>\n",
       "  </thead>\n",
       "  <tbody>\n",
       "    <tr>\n",
       "      <th>count</th>\n",
       "      <td>286388.000000</td>\n",
       "    </tr>\n",
       "    <tr>\n",
       "      <th>mean</th>\n",
       "      <td>978.225196</td>\n",
       "    </tr>\n",
       "    <tr>\n",
       "      <th>std</th>\n",
       "      <td>2529.897999</td>\n",
       "    </tr>\n",
       "    <tr>\n",
       "      <th>min</th>\n",
       "      <td>-1500.000000</td>\n",
       "    </tr>\n",
       "    <tr>\n",
       "      <th>25%</th>\n",
       "      <td>100.000000</td>\n",
       "    </tr>\n",
       "    <tr>\n",
       "      <th>50%</th>\n",
       "      <td>287.265000</td>\n",
       "    </tr>\n",
       "    <tr>\n",
       "      <th>75%</th>\n",
       "      <td>982.767500</td>\n",
       "    </tr>\n",
       "    <tr>\n",
       "      <th>max</th>\n",
       "      <td>270000.000000</td>\n",
       "    </tr>\n",
       "  </tbody>\n",
       "</table>\n",
       "</div>"
      ],
      "text/plain": [
       "       VALOR_REEMBOLSADO\n",
       "count      286388.000000\n",
       "mean          978.225196\n",
       "std          2529.897999\n",
       "min         -1500.000000\n",
       "25%           100.000000\n",
       "50%           287.265000\n",
       "75%           982.767500\n",
       "max        270000.000000"
      ]
     },
     "execution_count": 25,
     "metadata": {},
     "output_type": "execute_result"
    }
   ],
   "source": [
    "dados_ceaps.describe()"
   ]
  },
  {
   "cell_type": "markdown",
   "id": "093266bb-1e0b-4b35-bee3-967c47e5bc4e",
   "metadata": {},
   "source": [
    "Perceba que existem valores negativos, vamos tratar esses dados"
   ]
  },
  {
   "cell_type": "code",
   "execution_count": 28,
   "id": "f9a72a7e-9dc8-4a58-ab57-d5b221c6effd",
   "metadata": {},
   "outputs": [
    {
     "data": {
      "text/html": [
       "<div>\n",
       "<style scoped>\n",
       "    .dataframe tbody tr th:only-of-type {\n",
       "        vertical-align: middle;\n",
       "    }\n",
       "\n",
       "    .dataframe tbody tr th {\n",
       "        vertical-align: top;\n",
       "    }\n",
       "\n",
       "    .dataframe thead th {\n",
       "        text-align: right;\n",
       "    }\n",
       "</style>\n",
       "<table border=\"1\" class=\"dataframe\">\n",
       "  <thead>\n",
       "    <tr style=\"text-align: right;\">\n",
       "      <th></th>\n",
       "      <th>SENADOR</th>\n",
       "      <th>TIPO_DESPESA</th>\n",
       "      <th>CNPJ_CPF</th>\n",
       "      <th>FORNECEDOR</th>\n",
       "      <th>DATA</th>\n",
       "      <th>DETALHAMENTO</th>\n",
       "      <th>VALOR_REEMBOLSADO</th>\n",
       "    </tr>\n",
       "  </thead>\n",
       "  <tbody>\n",
       "    <tr>\n",
       "      <th>133386</th>\n",
       "      <td>GLADSON CAMELI</td>\n",
       "      <td>Aluguel de imóveis para escritório político, c...</td>\n",
       "      <td>63.600.449/0001-00</td>\n",
       "      <td>Arras Adm. de Bens Imóveis Limpeza e Conservaç...</td>\n",
       "      <td>2015-02-01</td>\n",
       "      <td>Contrato de locação de Imóvel comercial do esc...</td>\n",
       "      <td>-1500.0</td>\n",
       "    </tr>\n",
       "    <tr>\n",
       "      <th>144296</th>\n",
       "      <td>RANDOLFE RODRIGUES</td>\n",
       "      <td>Passagens aéreas, aquáticas e terrestres nacio...</td>\n",
       "      <td>02.012.862/0001-60</td>\n",
       "      <td>Tam Linhas Aereas S/A</td>\n",
       "      <td>2015-01-01</td>\n",
       "      <td>9572100929351 - R$ 1.298,93 (1º bilhete emitid...</td>\n",
       "      <td>-9.0</td>\n",
       "    </tr>\n",
       "    <tr>\n",
       "      <th>182570</th>\n",
       "      <td>DÁRIO BERGER</td>\n",
       "      <td>Contratação de consultorias, assessorias, pesq...</td>\n",
       "      <td>73.228.876/0001-63</td>\n",
       "      <td>TV CLIPAGEM LTDA. EPP.</td>\n",
       "      <td>2017-05-01</td>\n",
       "      <td>Despesa com Monitoramento de Informação Jornal...</td>\n",
       "      <td>-243.4</td>\n",
       "    </tr>\n",
       "  </tbody>\n",
       "</table>\n",
       "</div>"
      ],
      "text/plain": [
       "                   SENADOR                                       TIPO_DESPESA  \\\n",
       "133386      GLADSON CAMELI  Aluguel de imóveis para escritório político, c...   \n",
       "144296  RANDOLFE RODRIGUES  Passagens aéreas, aquáticas e terrestres nacio...   \n",
       "182570        DÁRIO BERGER  Contratação de consultorias, assessorias, pesq...   \n",
       "\n",
       "                  CNPJ_CPF                                         FORNECEDOR  \\\n",
       "133386  63.600.449/0001-00  Arras Adm. de Bens Imóveis Limpeza e Conservaç...   \n",
       "144296  02.012.862/0001-60                              Tam Linhas Aereas S/A   \n",
       "182570  73.228.876/0001-63                             TV CLIPAGEM LTDA. EPP.   \n",
       "\n",
       "             DATA                                       DETALHAMENTO  \\\n",
       "133386 2015-02-01  Contrato de locação de Imóvel comercial do esc...   \n",
       "144296 2015-01-01  9572100929351 - R$ 1.298,93 (1º bilhete emitid...   \n",
       "182570 2017-05-01  Despesa com Monitoramento de Informação Jornal...   \n",
       "\n",
       "        VALOR_REEMBOLSADO  \n",
       "133386            -1500.0  \n",
       "144296               -9.0  \n",
       "182570             -243.4  "
      ]
     },
     "execution_count": 28,
     "metadata": {},
     "output_type": "execute_result"
    }
   ],
   "source": [
    "dados_ceaps.query('VALOR_REEMBOLSADO < -1')"
   ]
  },
  {
   "cell_type": "markdown",
   "id": "ab6ffdf3-8f58-4008-9959-49b468a8b81b",
   "metadata": {},
   "source": [
    "Como são apenas 3 linhas vamos olhar todos um por um"
   ]
  },
  {
   "cell_type": "code",
   "execution_count": 33,
   "id": "cdf0d0a4-b651-41c2-8e7e-53629f4f26a4",
   "metadata": {},
   "outputs": [
    {
     "data": {
      "text/plain": [
       "'Contrato de locação de Imóvel comercial do escritório de apoio do Senador Gladson Cameli no Estado'"
      ]
     },
     "execution_count": 33,
     "metadata": {},
     "output_type": "execute_result"
    }
   ],
   "source": [
    "dados_ceaps.loc[133386, 'DETALHAMENTO']"
   ]
  },
  {
   "cell_type": "code",
   "execution_count": 34,
   "id": "7f5651cd-9774-45db-a231-a95692590e16",
   "metadata": {},
   "outputs": [],
   "source": [
    "dados_ceaps.loc[133386, 'VALOR_REEMBOLSADO'] = dados_ceaps.loc[133386, 'VALOR_REEMBOLSADO'] * -1 #Vamos substituir -1500 por 1500"
   ]
  },
  {
   "cell_type": "code",
   "execution_count": 36,
   "id": "817df686-3458-4723-930a-7d529c31712d",
   "metadata": {},
   "outputs": [
    {
     "data": {
      "text/plain": [
       "'9572100929351 - R$ 1.298,93 (1º bilhete emitido) 9572102224403 - R$ 1.418,93 (1ª remarcação) 9572104023443 - R$ 1.498,93 (2ª remarcação) 9572104373256 - R$ 2.412,03 (3ª remarcação - bilhete utilizado)'"
      ]
     },
     "execution_count": 36,
     "metadata": {},
     "output_type": "execute_result"
    }
   ],
   "source": [
    "dados_ceaps.loc[144296, 'DETALHAMENTO']"
   ]
  },
  {
   "cell_type": "markdown",
   "id": "fa8091e5-af61-4e08-bd02-df3c9207b897",
   "metadata": {},
   "source": [
    "Utilizarei o valor referente ao bilhete utilizado como consta no detalhamento R$ 2.412,03\n",
    "\n",
    "Mais detalhes do gasto em específico pode ser conferido [aqui](https://www6g.senado.leg.br/transparencia/sen/5012/ceaps/8/detalhe/358?mesAno=01/2015)"
   ]
  },
  {
   "cell_type": "code",
   "execution_count": 41,
   "id": "88efb094-2b41-43c4-b96f-5727e93c8233",
   "metadata": {},
   "outputs": [],
   "source": [
    "dados_ceaps.loc[144296, 'VALOR_REEMBOLSADO'] = 2412.03"
   ]
  },
  {
   "cell_type": "code",
   "execution_count": 42,
   "id": "0f0af60d-82e9-4a24-b82d-5edef315a171",
   "metadata": {},
   "outputs": [
    {
     "data": {
      "text/plain": [
       "'Despesa com Monitoramento de Informação Jornalística em Mídia Eletrônica e Imprensa'"
      ]
     },
     "execution_count": 42,
     "metadata": {},
     "output_type": "execute_result"
    }
   ],
   "source": [
    "dados_ceaps.loc[182570, 'DETALHAMENTO']"
   ]
  },
  {
   "cell_type": "code",
   "execution_count": 43,
   "id": "80abfece-c464-4771-9015-d334b3371968",
   "metadata": {},
   "outputs": [],
   "source": [
    "dados_ceaps.loc[182570, 'VALOR_REEMBOLSADO'] = dados_ceaps.loc[182570, 'VALOR_REEMBOLSADO'] * -1"
   ]
  },
  {
   "cell_type": "code",
   "execution_count": 44,
   "id": "4ca119dc-c6f8-4a49-b090-48ba8cbd646b",
   "metadata": {},
   "outputs": [
    {
     "data": {
      "text/plain": [
       "243.4"
      ]
     },
     "execution_count": 44,
     "metadata": {},
     "output_type": "execute_result"
    }
   ],
   "source": [
    "dados_ceaps.loc[182570, 'VALOR_REEMBOLSADO']"
   ]
  },
  {
   "cell_type": "markdown",
   "id": "39538cc1-4db3-447f-ae9e-e2cf89d3991f",
   "metadata": {},
   "source": [
    "### Após tratar os dados podemos exportar esse dataset para um arquivo csv:"
   ]
  },
  {
   "cell_type": "code",
   "execution_count": 45,
   "id": "9aedb8f0-a3ff-4a13-a538-a39550311086",
   "metadata": {},
   "outputs": [],
   "source": [
    "dados_ceaps.to_csv('CEAPS_dados_2010_2022.csv', sep=';')"
   ]
  }
 ],
 "metadata": {
  "kernelspec": {
   "display_name": "Python 3 (ipykernel)",
   "language": "python",
   "name": "python3"
  },
  "language_info": {
   "codemirror_mode": {
    "name": "ipython",
    "version": 3
   },
   "file_extension": ".py",
   "mimetype": "text/x-python",
   "name": "python",
   "nbconvert_exporter": "python",
   "pygments_lexer": "ipython3",
   "version": "3.9.7"
  }
 },
 "nbformat": 4,
 "nbformat_minor": 5
}
