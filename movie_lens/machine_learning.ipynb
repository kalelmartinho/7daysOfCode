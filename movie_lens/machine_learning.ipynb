{
 "cells": [
  {
   "cell_type": "markdown",
   "id": "7044cd65-d54d-47fd-8c57-1307014e7a7a",
   "metadata": {
    "tags": []
   },
   "source": [
    "![](../7daysofcode.png)\n",
    "\n",
    "---\n",
    "\n",
    "Por *Kalel Leonardo Martinho*\n",
    "\n",
    "# #7DaysOfCode - 4: Machine Learning 🤖\n",
    "\n",
    "Vamos implementar um sistema de recomendação bom base no algoritimo de fatoração de matrizes, usaremos o conjunto de dados MovieLens para treinar nosso modelo e conduzir nossos experimentos.\n",
    "\n",
    "A tarefa neste conjunto de dados é recomendar filmes que os usuários provavelmente irão gostar, com base em suas preferências históricas de filmes. Essa tarefa é importante, pois ainda é amplamente usada para avaliar o progresso na comunidade de pesquisa de sistemas de recomendação.\n",
    "\n",
    "---"
   ]
  },
  {
   "cell_type": "code",
   "execution_count": 1,
   "id": "51fbf307-6d98-479c-b2cc-0ecaeaf076a2",
   "metadata": {},
   "outputs": [],
   "source": [
    "import pandas as pd\n",
    "import numpy as np\n",
    "import matplotlib.pyplot as plt\n",
    "import seaborn as sns\n",
    "\n",
    "from zipfile import ZipFile\n",
    "from io import BytesIO\n",
    "import requests\n",
    "\n",
    "url = requests.get(\"https://files.grouplens.org/datasets/movielens/ml-100k.zip\")\n",
    "files = ZipFile(BytesIO(url.content))\n",
    "\n",
    "\n",
    "df_movies = pd.read_csv(files.open('ml-100k/u.item'), sep='|', encoding='latin-1', header=None)\n",
    "df_users = pd.read_csv(files.open('ml-100k/u.user'), sep='|', encoding='latin-1', header=None)\n",
    "df_rating = pd.read_csv(files.open('ml-100k/u.data'), sep='\\t', header=None)"
   ]
  },
  {
   "cell_type": "markdown",
   "id": "37e6c81e-07b9-48da-b3d9-62104be1824b",
   "metadata": {},
   "source": [
    "### Preparando os dados"
   ]
  },
  {
   "cell_type": "code",
   "execution_count": 2,
   "id": "5824be2f-399c-4c53-9fa8-24102b76cde4",
   "metadata": {},
   "outputs": [
    {
     "data": {
      "text/html": [
       "<div>\n",
       "<style scoped>\n",
       "    .dataframe tbody tr th:only-of-type {\n",
       "        vertical-align: middle;\n",
       "    }\n",
       "\n",
       "    .dataframe tbody tr th {\n",
       "        vertical-align: top;\n",
       "    }\n",
       "\n",
       "    .dataframe thead th {\n",
       "        text-align: right;\n",
       "    }\n",
       "</style>\n",
       "<table border=\"1\" class=\"dataframe\">\n",
       "  <thead>\n",
       "    <tr style=\"text-align: right;\">\n",
       "      <th></th>\n",
       "      <th>0</th>\n",
       "      <th>1</th>\n",
       "      <th>2</th>\n",
       "      <th>3</th>\n",
       "    </tr>\n",
       "  </thead>\n",
       "  <tbody>\n",
       "    <tr>\n",
       "      <th>0</th>\n",
       "      <td>196</td>\n",
       "      <td>242</td>\n",
       "      <td>3</td>\n",
       "      <td>881250949</td>\n",
       "    </tr>\n",
       "    <tr>\n",
       "      <th>1</th>\n",
       "      <td>186</td>\n",
       "      <td>302</td>\n",
       "      <td>3</td>\n",
       "      <td>891717742</td>\n",
       "    </tr>\n",
       "    <tr>\n",
       "      <th>2</th>\n",
       "      <td>22</td>\n",
       "      <td>377</td>\n",
       "      <td>1</td>\n",
       "      <td>878887116</td>\n",
       "    </tr>\n",
       "    <tr>\n",
       "      <th>3</th>\n",
       "      <td>244</td>\n",
       "      <td>51</td>\n",
       "      <td>2</td>\n",
       "      <td>880606923</td>\n",
       "    </tr>\n",
       "    <tr>\n",
       "      <th>4</th>\n",
       "      <td>166</td>\n",
       "      <td>346</td>\n",
       "      <td>1</td>\n",
       "      <td>886397596</td>\n",
       "    </tr>\n",
       "  </tbody>\n",
       "</table>\n",
       "</div>"
      ],
      "text/plain": [
       "     0    1  2          3\n",
       "0  196  242  3  881250949\n",
       "1  186  302  3  891717742\n",
       "2   22  377  1  878887116\n",
       "3  244   51  2  880606923\n",
       "4  166  346  1  886397596"
      ]
     },
     "execution_count": 2,
     "metadata": {},
     "output_type": "execute_result"
    }
   ],
   "source": [
    "df_rating.head()"
   ]
  },
  {
   "cell_type": "code",
   "execution_count": 3,
   "id": "1ebed26c-5578-480f-a74c-4626a9dd165b",
   "metadata": {},
   "outputs": [],
   "source": [
    "# df            -- The full u data set, 100000 ratings by 943 users on 1682 items.\n",
    "#               Each user has rated at least 20 movies.  Users and items are\n",
    "#               numbered consecutively from 1.  The data is randomly\n",
    "#               ordered. This is a tab separated list of \n",
    "#               user id | item id | rating | timestamp. \n",
    "#               The time stamps are unix seconds since 1/1/1970 UTC\n",
    "df_rating.rename(columns={0 :'user_id', 1:'item_id', 2:'rating', 3:'timestamp'}, inplace=True)"
   ]
  },
  {
   "cell_type": "code",
   "execution_count": 4,
   "id": "10ac6ade-363f-4c31-a8ea-5766aa2b376c",
   "metadata": {},
   "outputs": [
    {
     "data": {
      "text/html": [
       "<div>\n",
       "<style scoped>\n",
       "    .dataframe tbody tr th:only-of-type {\n",
       "        vertical-align: middle;\n",
       "    }\n",
       "\n",
       "    .dataframe tbody tr th {\n",
       "        vertical-align: top;\n",
       "    }\n",
       "\n",
       "    .dataframe thead th {\n",
       "        text-align: right;\n",
       "    }\n",
       "</style>\n",
       "<table border=\"1\" class=\"dataframe\">\n",
       "  <thead>\n",
       "    <tr style=\"text-align: right;\">\n",
       "      <th></th>\n",
       "      <th>user_id</th>\n",
       "      <th>item_id</th>\n",
       "      <th>rating</th>\n",
       "      <th>timestamp</th>\n",
       "    </tr>\n",
       "  </thead>\n",
       "  <tbody>\n",
       "    <tr>\n",
       "      <th>0</th>\n",
       "      <td>196</td>\n",
       "      <td>242</td>\n",
       "      <td>3</td>\n",
       "      <td>881250949</td>\n",
       "    </tr>\n",
       "    <tr>\n",
       "      <th>1</th>\n",
       "      <td>186</td>\n",
       "      <td>302</td>\n",
       "      <td>3</td>\n",
       "      <td>891717742</td>\n",
       "    </tr>\n",
       "    <tr>\n",
       "      <th>2</th>\n",
       "      <td>22</td>\n",
       "      <td>377</td>\n",
       "      <td>1</td>\n",
       "      <td>878887116</td>\n",
       "    </tr>\n",
       "    <tr>\n",
       "      <th>3</th>\n",
       "      <td>244</td>\n",
       "      <td>51</td>\n",
       "      <td>2</td>\n",
       "      <td>880606923</td>\n",
       "    </tr>\n",
       "    <tr>\n",
       "      <th>4</th>\n",
       "      <td>166</td>\n",
       "      <td>346</td>\n",
       "      <td>1</td>\n",
       "      <td>886397596</td>\n",
       "    </tr>\n",
       "  </tbody>\n",
       "</table>\n",
       "</div>"
      ],
      "text/plain": [
       "   user_id  item_id  rating  timestamp\n",
       "0      196      242       3  881250949\n",
       "1      186      302       3  891717742\n",
       "2       22      377       1  878887116\n",
       "3      244       51       2  880606923\n",
       "4      166      346       1  886397596"
      ]
     },
     "execution_count": 4,
     "metadata": {},
     "output_type": "execute_result"
    }
   ],
   "source": [
    "df_rating.head()"
   ]
  },
  {
   "cell_type": "code",
   "execution_count": 5,
   "id": "18bce756-8db6-462a-b5a4-91c86aa06080",
   "metadata": {},
   "outputs": [
    {
     "name": "stdout",
     "output_type": "stream",
     "text": [
      "<class 'pandas.core.frame.DataFrame'>\n",
      "RangeIndex: 100000 entries, 0 to 99999\n",
      "Data columns (total 4 columns):\n",
      " #   Column     Non-Null Count   Dtype\n",
      "---  ------     --------------   -----\n",
      " 0   user_id    100000 non-null  int64\n",
      " 1   item_id    100000 non-null  int64\n",
      " 2   rating     100000 non-null  int64\n",
      " 3   timestamp  100000 non-null  int64\n",
      "dtypes: int64(4)\n",
      "memory usage: 3.1 MB\n"
     ]
    }
   ],
   "source": [
    "df_rating['user_id'] = pd.to_numeric(df_rating['user_id'])\n",
    "df_rating['item_id'] = pd.to_numeric(df_rating['item_id'])\n",
    "df_rating['rating'] = pd.to_numeric(df_rating['rating'])\n",
    "df_rating.info()"
   ]
  },
  {
   "cell_type": "code",
   "execution_count": 6,
   "id": "56b3bf77-da36-4d47-b68f-14b7296bc58b",
   "metadata": {},
   "outputs": [
    {
     "data": {
      "text/html": [
       "<div>\n",
       "<style scoped>\n",
       "    .dataframe tbody tr th:only-of-type {\n",
       "        vertical-align: middle;\n",
       "    }\n",
       "\n",
       "    .dataframe tbody tr th {\n",
       "        vertical-align: top;\n",
       "    }\n",
       "\n",
       "    .dataframe thead th {\n",
       "        text-align: right;\n",
       "    }\n",
       "</style>\n",
       "<table border=\"1\" class=\"dataframe\">\n",
       "  <thead>\n",
       "    <tr style=\"text-align: right;\">\n",
       "      <th></th>\n",
       "      <th>user_id</th>\n",
       "      <th>item_id</th>\n",
       "      <th>rating</th>\n",
       "      <th>timestamp</th>\n",
       "    </tr>\n",
       "  </thead>\n",
       "  <tbody>\n",
       "    <tr>\n",
       "      <th>0</th>\n",
       "      <td>196</td>\n",
       "      <td>242</td>\n",
       "      <td>3</td>\n",
       "      <td>881250949</td>\n",
       "    </tr>\n",
       "    <tr>\n",
       "      <th>1</th>\n",
       "      <td>186</td>\n",
       "      <td>302</td>\n",
       "      <td>3</td>\n",
       "      <td>891717742</td>\n",
       "    </tr>\n",
       "    <tr>\n",
       "      <th>2</th>\n",
       "      <td>22</td>\n",
       "      <td>377</td>\n",
       "      <td>1</td>\n",
       "      <td>878887116</td>\n",
       "    </tr>\n",
       "    <tr>\n",
       "      <th>3</th>\n",
       "      <td>244</td>\n",
       "      <td>51</td>\n",
       "      <td>2</td>\n",
       "      <td>880606923</td>\n",
       "    </tr>\n",
       "    <tr>\n",
       "      <th>4</th>\n",
       "      <td>166</td>\n",
       "      <td>346</td>\n",
       "      <td>1</td>\n",
       "      <td>886397596</td>\n",
       "    </tr>\n",
       "  </tbody>\n",
       "</table>\n",
       "</div>"
      ],
      "text/plain": [
       "   user_id  item_id  rating  timestamp\n",
       "0      196      242       3  881250949\n",
       "1      186      302       3  891717742\n",
       "2       22      377       1  878887116\n",
       "3      244       51       2  880606923\n",
       "4      166      346       1  886397596"
      ]
     },
     "execution_count": 6,
     "metadata": {},
     "output_type": "execute_result"
    }
   ],
   "source": [
    "df_rating.head()"
   ]
  },
  {
   "cell_type": "code",
   "execution_count": 7,
   "id": "a0a304b0-da11-4cb0-8527-9e22193118a0",
   "metadata": {},
   "outputs": [
    {
     "data": {
      "text/html": [
       "<div>\n",
       "<style scoped>\n",
       "    .dataframe tbody tr th:only-of-type {\n",
       "        vertical-align: middle;\n",
       "    }\n",
       "\n",
       "    .dataframe tbody tr th {\n",
       "        vertical-align: top;\n",
       "    }\n",
       "\n",
       "    .dataframe thead th {\n",
       "        text-align: right;\n",
       "    }\n",
       "</style>\n",
       "<table border=\"1\" class=\"dataframe\">\n",
       "  <thead>\n",
       "    <tr style=\"text-align: right;\">\n",
       "      <th></th>\n",
       "      <th>0</th>\n",
       "      <th>1</th>\n",
       "      <th>2</th>\n",
       "      <th>3</th>\n",
       "      <th>4</th>\n",
       "      <th>5</th>\n",
       "      <th>6</th>\n",
       "      <th>7</th>\n",
       "      <th>8</th>\n",
       "      <th>9</th>\n",
       "      <th>...</th>\n",
       "      <th>14</th>\n",
       "      <th>15</th>\n",
       "      <th>16</th>\n",
       "      <th>17</th>\n",
       "      <th>18</th>\n",
       "      <th>19</th>\n",
       "      <th>20</th>\n",
       "      <th>21</th>\n",
       "      <th>22</th>\n",
       "      <th>23</th>\n",
       "    </tr>\n",
       "  </thead>\n",
       "  <tbody>\n",
       "    <tr>\n",
       "      <th>0</th>\n",
       "      <td>1</td>\n",
       "      <td>Toy Story (1995)</td>\n",
       "      <td>01-Jan-1995</td>\n",
       "      <td>NaN</td>\n",
       "      <td>http://us.imdb.com/M/title-exact?Toy%20Story%2...</td>\n",
       "      <td>0</td>\n",
       "      <td>0</td>\n",
       "      <td>0</td>\n",
       "      <td>1</td>\n",
       "      <td>1</td>\n",
       "      <td>...</td>\n",
       "      <td>0</td>\n",
       "      <td>0</td>\n",
       "      <td>0</td>\n",
       "      <td>0</td>\n",
       "      <td>0</td>\n",
       "      <td>0</td>\n",
       "      <td>0</td>\n",
       "      <td>0</td>\n",
       "      <td>0</td>\n",
       "      <td>0</td>\n",
       "    </tr>\n",
       "    <tr>\n",
       "      <th>1</th>\n",
       "      <td>2</td>\n",
       "      <td>GoldenEye (1995)</td>\n",
       "      <td>01-Jan-1995</td>\n",
       "      <td>NaN</td>\n",
       "      <td>http://us.imdb.com/M/title-exact?GoldenEye%20(...</td>\n",
       "      <td>0</td>\n",
       "      <td>1</td>\n",
       "      <td>1</td>\n",
       "      <td>0</td>\n",
       "      <td>0</td>\n",
       "      <td>...</td>\n",
       "      <td>0</td>\n",
       "      <td>0</td>\n",
       "      <td>0</td>\n",
       "      <td>0</td>\n",
       "      <td>0</td>\n",
       "      <td>0</td>\n",
       "      <td>0</td>\n",
       "      <td>1</td>\n",
       "      <td>0</td>\n",
       "      <td>0</td>\n",
       "    </tr>\n",
       "    <tr>\n",
       "      <th>2</th>\n",
       "      <td>3</td>\n",
       "      <td>Four Rooms (1995)</td>\n",
       "      <td>01-Jan-1995</td>\n",
       "      <td>NaN</td>\n",
       "      <td>http://us.imdb.com/M/title-exact?Four%20Rooms%...</td>\n",
       "      <td>0</td>\n",
       "      <td>0</td>\n",
       "      <td>0</td>\n",
       "      <td>0</td>\n",
       "      <td>0</td>\n",
       "      <td>...</td>\n",
       "      <td>0</td>\n",
       "      <td>0</td>\n",
       "      <td>0</td>\n",
       "      <td>0</td>\n",
       "      <td>0</td>\n",
       "      <td>0</td>\n",
       "      <td>0</td>\n",
       "      <td>1</td>\n",
       "      <td>0</td>\n",
       "      <td>0</td>\n",
       "    </tr>\n",
       "    <tr>\n",
       "      <th>3</th>\n",
       "      <td>4</td>\n",
       "      <td>Get Shorty (1995)</td>\n",
       "      <td>01-Jan-1995</td>\n",
       "      <td>NaN</td>\n",
       "      <td>http://us.imdb.com/M/title-exact?Get%20Shorty%...</td>\n",
       "      <td>0</td>\n",
       "      <td>1</td>\n",
       "      <td>0</td>\n",
       "      <td>0</td>\n",
       "      <td>0</td>\n",
       "      <td>...</td>\n",
       "      <td>0</td>\n",
       "      <td>0</td>\n",
       "      <td>0</td>\n",
       "      <td>0</td>\n",
       "      <td>0</td>\n",
       "      <td>0</td>\n",
       "      <td>0</td>\n",
       "      <td>0</td>\n",
       "      <td>0</td>\n",
       "      <td>0</td>\n",
       "    </tr>\n",
       "    <tr>\n",
       "      <th>4</th>\n",
       "      <td>5</td>\n",
       "      <td>Copycat (1995)</td>\n",
       "      <td>01-Jan-1995</td>\n",
       "      <td>NaN</td>\n",
       "      <td>http://us.imdb.com/M/title-exact?Copycat%20(1995)</td>\n",
       "      <td>0</td>\n",
       "      <td>0</td>\n",
       "      <td>0</td>\n",
       "      <td>0</td>\n",
       "      <td>0</td>\n",
       "      <td>...</td>\n",
       "      <td>0</td>\n",
       "      <td>0</td>\n",
       "      <td>0</td>\n",
       "      <td>0</td>\n",
       "      <td>0</td>\n",
       "      <td>0</td>\n",
       "      <td>0</td>\n",
       "      <td>1</td>\n",
       "      <td>0</td>\n",
       "      <td>0</td>\n",
       "    </tr>\n",
       "  </tbody>\n",
       "</table>\n",
       "<p>5 rows × 24 columns</p>\n",
       "</div>"
      ],
      "text/plain": [
       "   0                  1            2   3   \\\n",
       "0   1   Toy Story (1995)  01-Jan-1995 NaN   \n",
       "1   2   GoldenEye (1995)  01-Jan-1995 NaN   \n",
       "2   3  Four Rooms (1995)  01-Jan-1995 NaN   \n",
       "3   4  Get Shorty (1995)  01-Jan-1995 NaN   \n",
       "4   5     Copycat (1995)  01-Jan-1995 NaN   \n",
       "\n",
       "                                                  4   5   6   7   8   9   ...  \\\n",
       "0  http://us.imdb.com/M/title-exact?Toy%20Story%2...   0   0   0   1   1  ...   \n",
       "1  http://us.imdb.com/M/title-exact?GoldenEye%20(...   0   1   1   0   0  ...   \n",
       "2  http://us.imdb.com/M/title-exact?Four%20Rooms%...   0   0   0   0   0  ...   \n",
       "3  http://us.imdb.com/M/title-exact?Get%20Shorty%...   0   1   0   0   0  ...   \n",
       "4  http://us.imdb.com/M/title-exact?Copycat%20(1995)   0   0   0   0   0  ...   \n",
       "\n",
       "   14  15  16  17  18  19  20  21  22  23  \n",
       "0   0   0   0   0   0   0   0   0   0   0  \n",
       "1   0   0   0   0   0   0   0   1   0   0  \n",
       "2   0   0   0   0   0   0   0   1   0   0  \n",
       "3   0   0   0   0   0   0   0   0   0   0  \n",
       "4   0   0   0   0   0   0   0   1   0   0  \n",
       "\n",
       "[5 rows x 24 columns]"
      ]
     },
     "execution_count": 7,
     "metadata": {},
     "output_type": "execute_result"
    }
   ],
   "source": [
    "# df_movies       -- Information about the items (movies); this is a tab separated\n",
    "#               list of\n",
    "# --\n",
    "#               movie id | movie title | release date | video release date |\n",
    "#               IMDb URL | unknown | Action | Adventure | Animation |\n",
    "#               Children's | Comedy | Crime | Documentary | Drama | Fantasy |\n",
    "#               Film-Noir | Horror | Musical | Mystery | Romance | Sci-Fi |\n",
    "#               Thriller | War | Western |\n",
    "# ---\n",
    "#               The last 19 fields are the genres, a 1 indicates the movie\n",
    "#               is of that genre, a 0 indicates it is not; movies can be in\n",
    "#               several genres at once.\n",
    "#               The movie ids are the ones used in the u.data data set.\n",
    "movies_genre_name = np.array(pd.read_csv(files.open('ml-100k/u.genre'), sep='|', header=None, engine='python', encoding='latin-1').loc[:, 0])\n",
    "\n",
    "df_movies.head()\n"
   ]
  },
  {
   "cell_type": "code",
   "execution_count": 8,
   "id": "813e9238-5d07-4833-aa6e-e02440822c0f",
   "metadata": {},
   "outputs": [],
   "source": [
    "movies_genre = np.matrix(df_movies.loc[:, 5:])"
   ]
  },
  {
   "cell_type": "code",
   "execution_count": 9,
   "id": "cacf3c69-412d-467a-9f01-8d9cfb1278f5",
   "metadata": {},
   "outputs": [],
   "source": [
    "df_movies.rename(columns={0: 'movie_id', 1: 'movie_title', 2: 'release_date', 3: 'video_release_date', 4: 'imdb_url', 5:\n",
    "'unknown', 6: 'action', 7: 'adventure', 8: 'animation', 9: 'childrens', 10: 'comedy', 11: 'crime', 12:\n",
    "'documentary', 13: 'drama', 14: 'fantasy', 15: 'film_noir', 16: 'horror', 17: 'musical', 18: 'mystery', 19:\n",
    "'romance', 20: 'scifi', 21: 'thriller', 22: 'war', 23: 'western'}, inplace=True)"
   ]
  },
  {
   "cell_type": "code",
   "execution_count": 10,
   "id": "b971f05a-b6f6-4ed8-a992-95fea7451368",
   "metadata": {},
   "outputs": [],
   "source": [
    "#df_movies = df_movies.set_index('movie_id')"
   ]
  },
  {
   "cell_type": "code",
   "execution_count": 11,
   "id": "45ba811f-2ac2-46f7-8325-c81b68a539d0",
   "metadata": {},
   "outputs": [
    {
     "name": "stdout",
     "output_type": "stream",
     "text": [
      "<class 'pandas.core.frame.DataFrame'>\n",
      "RangeIndex: 1682 entries, 0 to 1681\n",
      "Data columns (total 24 columns):\n",
      " #   Column              Non-Null Count  Dtype  \n",
      "---  ------              --------------  -----  \n",
      " 0   movie_id            1682 non-null   int64  \n",
      " 1   movie_title         1682 non-null   object \n",
      " 2   release_date        1681 non-null   object \n",
      " 3   video_release_date  0 non-null      float64\n",
      " 4   imdb_url            1679 non-null   object \n",
      " 5   unknown             1682 non-null   int64  \n",
      " 6   action              1682 non-null   int64  \n",
      " 7   adventure           1682 non-null   int64  \n",
      " 8   animation           1682 non-null   int64  \n",
      " 9   childrens           1682 non-null   int64  \n",
      " 10  comedy              1682 non-null   int64  \n",
      " 11  crime               1682 non-null   int64  \n",
      " 12  documentary         1682 non-null   int64  \n",
      " 13  drama               1682 non-null   int64  \n",
      " 14  fantasy             1682 non-null   int64  \n",
      " 15  film_noir           1682 non-null   int64  \n",
      " 16  horror              1682 non-null   int64  \n",
      " 17  musical             1682 non-null   int64  \n",
      " 18  mystery             1682 non-null   int64  \n",
      " 19  romance             1682 non-null   int64  \n",
      " 20  scifi               1682 non-null   int64  \n",
      " 21  thriller            1682 non-null   int64  \n",
      " 22  war                 1682 non-null   int64  \n",
      " 23  western             1682 non-null   int64  \n",
      "dtypes: float64(1), int64(20), object(3)\n",
      "memory usage: 315.5+ KB\n"
     ]
    }
   ],
   "source": [
    "df_movies.info()"
   ]
  },
  {
   "cell_type": "code",
   "execution_count": 12,
   "id": "4675fcb7-5d35-4bee-bc6d-6e65c5c7f966",
   "metadata": {},
   "outputs": [
    {
     "data": {
      "text/html": [
       "<div>\n",
       "<style scoped>\n",
       "    .dataframe tbody tr th:only-of-type {\n",
       "        vertical-align: middle;\n",
       "    }\n",
       "\n",
       "    .dataframe tbody tr th {\n",
       "        vertical-align: top;\n",
       "    }\n",
       "\n",
       "    .dataframe thead th {\n",
       "        text-align: right;\n",
       "    }\n",
       "</style>\n",
       "<table border=\"1\" class=\"dataframe\">\n",
       "  <thead>\n",
       "    <tr style=\"text-align: right;\">\n",
       "      <th></th>\n",
       "      <th>0</th>\n",
       "      <th>1</th>\n",
       "      <th>2</th>\n",
       "      <th>3</th>\n",
       "      <th>4</th>\n",
       "    </tr>\n",
       "  </thead>\n",
       "  <tbody>\n",
       "    <tr>\n",
       "      <th>0</th>\n",
       "      <td>1</td>\n",
       "      <td>24</td>\n",
       "      <td>M</td>\n",
       "      <td>technician</td>\n",
       "      <td>85711</td>\n",
       "    </tr>\n",
       "    <tr>\n",
       "      <th>1</th>\n",
       "      <td>2</td>\n",
       "      <td>53</td>\n",
       "      <td>F</td>\n",
       "      <td>other</td>\n",
       "      <td>94043</td>\n",
       "    </tr>\n",
       "    <tr>\n",
       "      <th>2</th>\n",
       "      <td>3</td>\n",
       "      <td>23</td>\n",
       "      <td>M</td>\n",
       "      <td>writer</td>\n",
       "      <td>32067</td>\n",
       "    </tr>\n",
       "    <tr>\n",
       "      <th>3</th>\n",
       "      <td>4</td>\n",
       "      <td>24</td>\n",
       "      <td>M</td>\n",
       "      <td>technician</td>\n",
       "      <td>43537</td>\n",
       "    </tr>\n",
       "    <tr>\n",
       "      <th>4</th>\n",
       "      <td>5</td>\n",
       "      <td>33</td>\n",
       "      <td>F</td>\n",
       "      <td>other</td>\n",
       "      <td>15213</td>\n",
       "    </tr>\n",
       "  </tbody>\n",
       "</table>\n",
       "</div>"
      ],
      "text/plain": [
       "   0   1  2           3      4\n",
       "0  1  24  M  technician  85711\n",
       "1  2  53  F       other  94043\n",
       "2  3  23  M      writer  32067\n",
       "3  4  24  M  technician  43537\n",
       "4  5  33  F       other  15213"
      ]
     },
     "execution_count": 12,
     "metadata": {},
     "output_type": "execute_result"
    }
   ],
   "source": [
    "#df_users    -- Demographic information about the users; this is a tab\n",
    "#              separated list of\n",
    "#              user id | age | gender | occupation | zip code\n",
    "#              The user ids are the ones used in the u.data data set.\n",
    "\n",
    "df_users.head()"
   ]
  },
  {
   "cell_type": "code",
   "execution_count": 13,
   "id": "91d6056e-a579-4971-82dd-cb3d7fedca69",
   "metadata": {},
   "outputs": [],
   "source": [
    "df_users.rename(columns={0 :'user_id', 1:'age', 2:'gender', 3:'occupation', 4:'zip_code'}, inplace=True)"
   ]
  },
  {
   "cell_type": "code",
   "execution_count": 14,
   "id": "50a28ddc-271e-4fbf-b659-7089896658a4",
   "metadata": {},
   "outputs": [
    {
     "data": {
      "text/html": [
       "<div>\n",
       "<style scoped>\n",
       "    .dataframe tbody tr th:only-of-type {\n",
       "        vertical-align: middle;\n",
       "    }\n",
       "\n",
       "    .dataframe tbody tr th {\n",
       "        vertical-align: top;\n",
       "    }\n",
       "\n",
       "    .dataframe thead th {\n",
       "        text-align: right;\n",
       "    }\n",
       "</style>\n",
       "<table border=\"1\" class=\"dataframe\">\n",
       "  <thead>\n",
       "    <tr style=\"text-align: right;\">\n",
       "      <th></th>\n",
       "      <th>user_id</th>\n",
       "      <th>age</th>\n",
       "      <th>gender</th>\n",
       "      <th>occupation</th>\n",
       "      <th>zip_code</th>\n",
       "    </tr>\n",
       "  </thead>\n",
       "  <tbody>\n",
       "    <tr>\n",
       "      <th>0</th>\n",
       "      <td>1</td>\n",
       "      <td>24</td>\n",
       "      <td>M</td>\n",
       "      <td>technician</td>\n",
       "      <td>85711</td>\n",
       "    </tr>\n",
       "    <tr>\n",
       "      <th>1</th>\n",
       "      <td>2</td>\n",
       "      <td>53</td>\n",
       "      <td>F</td>\n",
       "      <td>other</td>\n",
       "      <td>94043</td>\n",
       "    </tr>\n",
       "    <tr>\n",
       "      <th>2</th>\n",
       "      <td>3</td>\n",
       "      <td>23</td>\n",
       "      <td>M</td>\n",
       "      <td>writer</td>\n",
       "      <td>32067</td>\n",
       "    </tr>\n",
       "    <tr>\n",
       "      <th>3</th>\n",
       "      <td>4</td>\n",
       "      <td>24</td>\n",
       "      <td>M</td>\n",
       "      <td>technician</td>\n",
       "      <td>43537</td>\n",
       "    </tr>\n",
       "    <tr>\n",
       "      <th>4</th>\n",
       "      <td>5</td>\n",
       "      <td>33</td>\n",
       "      <td>F</td>\n",
       "      <td>other</td>\n",
       "      <td>15213</td>\n",
       "    </tr>\n",
       "  </tbody>\n",
       "</table>\n",
       "</div>"
      ],
      "text/plain": [
       "   user_id  age gender  occupation zip_code\n",
       "0        1   24      M  technician    85711\n",
       "1        2   53      F       other    94043\n",
       "2        3   23      M      writer    32067\n",
       "3        4   24      M  technician    43537\n",
       "4        5   33      F       other    15213"
      ]
     },
     "execution_count": 14,
     "metadata": {},
     "output_type": "execute_result"
    }
   ],
   "source": [
    "df_users.head()"
   ]
  },
  {
   "cell_type": "code",
   "execution_count": 15,
   "id": "4e0e59f0-ca58-472f-94eb-c47a1649b442",
   "metadata": {},
   "outputs": [],
   "source": [
    "n_movies = len(df_movies)\n",
    "n_users = len(df_users)"
   ]
  },
  {
   "cell_type": "markdown",
   "id": "6c9ae446-a99d-4f2b-abe1-b3454508207b",
   "metadata": {},
   "source": [
    "---\n",
    "\n",
    "Processando os dados\n",
    "\n",
    "Usuários"
   ]
  },
  {
   "cell_type": "code",
   "execution_count": 16,
   "id": "6fc5855c-fdeb-4a4f-8bdd-0b3e2efa7980",
   "metadata": {},
   "outputs": [],
   "source": [
    "# Converter strings para informação binária\n",
    "# Gênero 'M' = 0, 'F' = 1\n",
    "genero = np.where(np.matrix(df_users['gender']) == 'M', 0, 1)[0]\n",
    "\n",
    "# Ocupação\n",
    "n_ocupacao = np.array(pd.read_csv(files.open('ml-100k/u.occupation'), sep='|', header=None, encoding='latin-1', engine='python').loc[:, 0])\n",
    "\n",
    "# Transformar ocupação para boolean\n",
    "m_ocupacao = np.zeros((n_users, len(n_ocupacao)))\n",
    "\n",
    "for k in np.arange(n_users):\n",
    "    m_ocupacao[k, n_ocupacao.tolist().index(df_users['occupation'][k])] = 1\n",
    "# Concatenar informações\n",
    "\n",
    "user_at = np.concatenate((np.matrix(df_users['age']), np.matrix(genero), m_ocupacao.T)).T.tolist()\n"
   ]
  },
  {
   "cell_type": "code",
   "execution_count": 17,
   "id": "35fdc6e7-cb49-404f-86f3-7af97b1d5f0a",
   "metadata": {},
   "outputs": [
    {
     "data": {
      "text/html": [
       "<div>\n",
       "<style scoped>\n",
       "    .dataframe tbody tr th:only-of-type {\n",
       "        vertical-align: middle;\n",
       "    }\n",
       "\n",
       "    .dataframe tbody tr th {\n",
       "        vertical-align: top;\n",
       "    }\n",
       "\n",
       "    .dataframe thead th {\n",
       "        text-align: right;\n",
       "    }\n",
       "</style>\n",
       "<table border=\"1\" class=\"dataframe\">\n",
       "  <thead>\n",
       "    <tr style=\"text-align: right;\">\n",
       "      <th></th>\n",
       "      <th>count</th>\n",
       "      <th>mean</th>\n",
       "      <th>std</th>\n",
       "      <th>min</th>\n",
       "      <th>25%</th>\n",
       "      <th>50%</th>\n",
       "      <th>75%</th>\n",
       "      <th>max</th>\n",
       "    </tr>\n",
       "  </thead>\n",
       "  <tbody>\n",
       "    <tr>\n",
       "      <th>age</th>\n",
       "      <td>943.0</td>\n",
       "      <td>34.051962</td>\n",
       "      <td>12.19274</td>\n",
       "      <td>7.0</td>\n",
       "      <td>25.0</td>\n",
       "      <td>31.0</td>\n",
       "      <td>43.0</td>\n",
       "      <td>73.0</td>\n",
       "    </tr>\n",
       "  </tbody>\n",
       "</table>\n",
       "</div>"
      ],
      "text/plain": [
       "     count       mean       std  min   25%   50%   75%   max\n",
       "age  943.0  34.051962  12.19274  7.0  25.0  31.0  43.0  73.0"
      ]
     },
     "execution_count": 17,
     "metadata": {},
     "output_type": "execute_result"
    }
   ],
   "source": [
    "pd.DataFrame(df_users['age'].describe()).T"
   ]
  },
  {
   "cell_type": "markdown",
   "id": "1cd95d03-9a42-4b63-8615-eb5c114d596a",
   "metadata": {},
   "source": [
    "The training and test sets were provided as is and have 80k and 20k evaluations respectively.\n",
    "\n",
    "For practical reasons, we convert the database as a list using a function"
   ]
  },
  {
   "cell_type": "code",
   "execution_count": 18,
   "id": "ade55206-18cd-47e4-a01b-2de1c38ac49c",
   "metadata": {},
   "outputs": [],
   "source": [
    "training_set = np.array(pd.read_csv(files.open('ml-100k/u1.base'), delimiter='\\t'), dtype='int')\n",
    "testing_set = np.array(pd.read_csv(files.open('ml-100k/u1.test'), delimiter='\\t'), dtype='int')"
   ]
  },
  {
   "cell_type": "code",
   "execution_count": 19,
   "id": "a0d44ea1-da59-45de-943a-ec3a30605430",
   "metadata": {},
   "outputs": [],
   "source": [
    "def convert(data, nb_users, nb_movies):\n",
    "    new_data = []\n",
    "    for id_users in range(1, nb_users + 1):\n",
    "        id_movies = data[:,1][data[:,0] == id_users]\n",
    "        id_ratings = data[:,2][data[:,0] == id_users]\n",
    "        ratings = np.zeros(nb_movies)\n",
    "        ratings[id_movies - 1] = id_ratings\n",
    "        new_data.append(list(ratings))\n",
    "    return new_data\n",
    "\n",
    "train_set = convert(training_set, n_users, n_movies)\n",
    "test_set = convert(testing_set, n_users, n_movies)"
   ]
  },
  {
   "cell_type": "code",
   "execution_count": 43,
   "id": "f4689820-5139-4826-9724-c7824e25df61",
   "metadata": {},
   "outputs": [
    {
     "data": {
      "text/plain": [
       "(943, 1682)"
      ]
     },
     "execution_count": 43,
     "metadata": {},
     "output_type": "execute_result"
    }
   ],
   "source": [
    "np.array(train_set).shape"
   ]
  },
  {
   "cell_type": "code",
   "execution_count": 21,
   "id": "d779fdb3-13f7-49f9-8d61-bbc260bdb5ad",
   "metadata": {},
   "outputs": [
    {
     "data": {
      "text/html": [
       "<div>\n",
       "<style scoped>\n",
       "    .dataframe tbody tr th:only-of-type {\n",
       "        vertical-align: middle;\n",
       "    }\n",
       "\n",
       "    .dataframe tbody tr th {\n",
       "        vertical-align: top;\n",
       "    }\n",
       "\n",
       "    .dataframe thead th {\n",
       "        text-align: right;\n",
       "    }\n",
       "</style>\n",
       "<table border=\"1\" class=\"dataframe\">\n",
       "  <thead>\n",
       "    <tr style=\"text-align: right;\">\n",
       "      <th></th>\n",
       "      <th>count</th>\n",
       "      <th>mean</th>\n",
       "      <th>std</th>\n",
       "      <th>min</th>\n",
       "      <th>25%</th>\n",
       "      <th>50%</th>\n",
       "      <th>75%</th>\n",
       "      <th>max</th>\n",
       "    </tr>\n",
       "  </thead>\n",
       "  <tbody>\n",
       "    <tr>\n",
       "      <th>0</th>\n",
       "      <td>943.0</td>\n",
       "      <td>84.834571</td>\n",
       "      <td>83.805787</td>\n",
       "      <td>4.0</td>\n",
       "      <td>27.0</td>\n",
       "      <td>50.0</td>\n",
       "      <td>115.0</td>\n",
       "      <td>685.0</td>\n",
       "    </tr>\n",
       "  </tbody>\n",
       "</table>\n",
       "</div>"
      ],
      "text/plain": [
       "   count       mean        std  min   25%   50%    75%    max\n",
       "0  943.0  84.834571  83.805787  4.0  27.0  50.0  115.0  685.0"
      ]
     },
     "execution_count": 21,
     "metadata": {},
     "output_type": "execute_result"
    }
   ],
   "source": [
    "train_matrix = np.array(train_set)\n",
    "assert train_matrix.shape == (943, 1682)\n",
    "\n",
    "binarized_train_matrix = np.where(train_matrix > 0 , 1, 0)\n",
    "\n",
    "num_movies_watched = np.sum(binarized_train_matrix, axis=1) ## sum across movies for each user\n",
    "pd.DataFrame(num_movies_watched).describe().T"
   ]
  },
  {
   "cell_type": "code",
   "execution_count": 22,
   "id": "da3dfdf3-133e-44d7-88db-0ed2275c8996",
   "metadata": {},
   "outputs": [
    {
     "data": {
      "image/png": "[encoded data removed]",
      "text/plain": [
       "<Figure size 864x576 with 1 Axes>"
      ]
     },
     "metadata": {},
     "output_type": "display_data"
    }
   ],
   "source": [
    "import seaborn as sns\n",
    "\n",
    "sns.set(rc={'figure.figsize':(12,8)})\n",
    "sns.set(font_scale = 1.5)\n",
    "\n",
    "plt.title('Empirical distribution of \\n the number of movies watched per user')\n",
    "plt.xlabel('Number of movies watched')\n",
    "plt.ylabel('Number of users')\n",
    "plt.hist(num_movies_watched, 100);"
   ]
  },
  {
   "cell_type": "code",
   "execution_count": 23,
   "id": "b2566972-d505-4865-868a-58d85d18e023",
   "metadata": {},
   "outputs": [
    {
     "data": {
      "text/html": [
       "<div>\n",
       "<style scoped>\n",
       "    .dataframe tbody tr th:only-of-type {\n",
       "        vertical-align: middle;\n",
       "    }\n",
       "\n",
       "    .dataframe tbody tr th {\n",
       "        vertical-align: top;\n",
       "    }\n",
       "\n",
       "    .dataframe thead th {\n",
       "        text-align: right;\n",
       "    }\n",
       "</style>\n",
       "<table border=\"1\" class=\"dataframe\">\n",
       "  <thead>\n",
       "    <tr style=\"text-align: right;\">\n",
       "      <th></th>\n",
       "      <th>count</th>\n",
       "      <th>mean</th>\n",
       "      <th>std</th>\n",
       "      <th>min</th>\n",
       "      <th>25%</th>\n",
       "      <th>50%</th>\n",
       "      <th>75%</th>\n",
       "      <th>max</th>\n",
       "    </tr>\n",
       "  </thead>\n",
       "  <tbody>\n",
       "    <tr>\n",
       "      <th>0</th>\n",
       "      <td>1682.0</td>\n",
       "      <td>0.050437</td>\n",
       "      <td>0.068664</td>\n",
       "      <td>0.0</td>\n",
       "      <td>0.005302</td>\n",
       "      <td>0.022269</td>\n",
       "      <td>0.066808</td>\n",
       "      <td>0.513256</td>\n",
       "    </tr>\n",
       "  </tbody>\n",
       "</table>\n",
       "</div>"
      ],
      "text/plain": [
       "    count      mean       std  min       25%       50%       75%       max\n",
       "0  1682.0  0.050437  0.068664  0.0  0.005302  0.022269  0.066808  0.513256"
      ]
     },
     "execution_count": 23,
     "metadata": {},
     "output_type": "execute_result"
    }
   ],
   "source": [
    "movie_popularity = np.mean(binarized_train_matrix, axis=0)  ## axis 0 refers to averaging across users\n",
    "pd.DataFrame(movie_popularity).describe().T"
   ]
  },
  {
   "cell_type": "code",
   "execution_count": 24,
   "id": "6511e88c-82c5-4dfb-9cb9-9dab36803277",
   "metadata": {},
   "outputs": [
    {
     "data": {
      "image/png": "[encoded data removed]",
      "text/plain": [
       "<Figure size 864x576 with 1 Axes>"
      ]
     },
     "metadata": {},
     "output_type": "display_data"
    }
   ],
   "source": [
    "plt.xlabel('Proportion of the population who watched the movie')\n",
    "plt.ylabel('Number of Movies')\n",
    "plt.hist(movie_popularity, 100);"
   ]
  },
  {
   "cell_type": "markdown",
   "id": "69010a2a-b8ae-480b-a729-ae96731792b3",
   "metadata": {},
   "source": [
    "### Construindo o conjunto de treino e validação"
   ]
  },
  {
   "cell_type": "code",
   "execution_count": 44,
   "id": "295ca18e-3963-466a-928d-c7499002b9e7",
   "metadata": {},
   "outputs": [],
   "source": [
    "def split(data, ratio, tensor=False):\n",
    "    train = np.zeros((len(data), len(data[0]))).tolist()\n",
    "    valid = np.zeros((len(data), len(data[0]))).tolist()\n",
    "\n",
    "    for i in range(len(data)):\n",
    "        for j in range(len(data[i])):\n",
    "            if data[i][j] > 0:\n",
    "                if np.random.binomial(1, ratio, 1):\n",
    "                    train[i][j] = data[i][j]\n",
    "                else:\n",
    "                    valid[i][j] = data[i][j]\n",
    "\n",
    "    return [train, valid]\n",
    "\n",
    "train = split(train_set, 0.8)\n",
    "test = test_set"
   ]
  },
  {
   "cell_type": "markdown",
   "id": "4868b988-192a-4639-bff5-328d8a806dd7",
   "metadata": {},
   "source": [
    "### Construindo o ciclo de aprendizado para o modelo"
   ]
  },
  {
   "cell_type": "code",
   "execution_count": 47,
   "id": "cca0d1c4-7e23-4d16-b658-b2a8b19b2d09",
   "metadata": {},
   "outputs": [],
   "source": [
    "def learn_to_recommend(data, features=10, lr=0.0002, epochs=101, weigth_decay=0.02, stopping=0.001):\n",
    "    \"\"\"\n",
    "    Args:\n",
    "       data: every evaluation\n",
    "       features: number of latent variables\n",
    "       lr: learning rate for gradient descent\n",
    "       epochs: number of iterations or maximum loops to perform\n",
    "       weigth_decay: L2 regularization to predict rattings different of 0\n",
    "       stopping: scalar associated with the stopping criterion\n",
    "      \n",
    "     Returns:\n",
    "       P: latent matrix of users\n",
    "       Q: latent matrix of items\n",
    "       loss_train: vector of the different values of the loss function after each iteration on the train\n",
    "       loss_valid: vector of the different values of the loss function after each iteration not on valid\n",
    "       \"\"\"\n",
    "     \n",
    "    train, valid = data[0], data[1]\n",
    "    nb_users, nb_items = len(train), len(train[0])\n",
    "\n",
    "    loss_train, loss_valid = [], []\n",
    "\n",
    "    P = np.random.rand(nb_users, features) * 0.1\n",
    "    Q = np.random.rand(nb_items, features) * 0.1\n",
    "    \n",
    "    for e in range(epochs):        \n",
    "        for u in range(nb_users):\n",
    "            for i in range(nb_items):\n",
    "\n",
    "                if train[u][i] > 0:\n",
    "                    error_ui = train[u][i] - prediction(P, Q, u, i)\n",
    "                    P, Q = sgd(error_ui, P, Q, u, i, features, lr, weigth_decay)\n",
    "                               \n",
    "        loss_train.append(loss(train, P, Q))\n",
    "        loss_valid.append(loss(valid, P, Q))\n",
    "        \n",
    "        if e % 10 == 0:\n",
    "            print('Epoch : ', \"{:3.0f}\".format(e+1), ' | Train :', \"{:3.3f}\".format(loss_train[-1]), \n",
    "                  ' | Valid :', \"{:3.3f}\".format(loss_valid[-1]))\n",
    "\n",
    "        if e > 1:\n",
    "            if abs(loss_valid[-1] - loss_valid[-2]) < stopping:\n",
    "                break\n",
    "        \n",
    "    return P, Q, loss_train, loss_valid"
   ]
  },
  {
   "cell_type": "markdown",
   "id": "3374150f-1ad3-40a3-b526-a7ed3431dd36",
   "metadata": {},
   "source": [
    "### Loss Function para otimização"
   ]
  },
  {
   "cell_type": "code",
   "execution_count": 48,
   "id": "60d59e68-1114-4a5c-aa6b-d91cc7a81eb8",
   "metadata": {},
   "outputs": [],
   "source": [
    "def prediction(P, Q, u, i):\n",
    "    \"\"\"\n",
    "    Args:\n",
    "        P: user matrix\n",
    "        Q: matrix of items\n",
    "        u: index associated with user u\n",
    "        i: index associated with item i\n",
    "    Returns:\n",
    "        pred: the predicted evaluation of the user u for the item i\n",
    "    \"\"\"\n",
    "    \n",
    "    return np.dot(P[u,:], Q[i,:])\n",
    "\n",
    "def loss(data, P, Q):\n",
    "    \"\"\"\n",
    "    Args:\n",
    "       data: ratings\n",
    "       P: matrix of users\n",
    "       Q: matrix of items   \n",
    "    Returns:\n",
    "        MSE: observed mean of squared errors \n",
    "    \"\"\"\n",
    "    errors_sum, nb_evaluations = 0., 0\n",
    "    nb_users, nb_items = len(data), len(data[0])\n",
    "\n",
    "    for u in range(nb_users):\n",
    "        for i in range(nb_items):\n",
    "        \n",
    "            if data[u][i] > 0:\n",
    "                errors_sum += pow(data[u][i] - prediction(P, Q, u, i), 2)\n",
    "                nb_evaluations += 1\n",
    "                \n",
    "    return errors_sum / nb_evaluations"
   ]
  },
  {
   "cell_type": "markdown",
   "id": "406d6e0f-e93d-4d98-b4ee-02e3953fc1ee",
   "metadata": {},
   "source": [
    "### Estimativas"
   ]
  },
  {
   "cell_type": "code",
   "execution_count": 49,
   "id": "b5b9042b-5872-4d94-a9fc-6d9fe17528dd",
   "metadata": {},
   "outputs": [],
   "source": [
    "def sgd(error, P, Q, id_user, id_item, features, lr, weigth_decay):\n",
    "    \"\"\"\n",
    "    Args:\n",
    "        error: difference between observed and predicted evaluation (in that order)\n",
    "        P: matrix of users\n",
    "        Q: matrix of items\n",
    "        id_user: id_user\n",
    "        id_item: id_item\n",
    "        features: number of latent variables\n",
    "        lr: learning for the descent of the gradient\n",
    "        weigth_decay: scalar multiplier controlling the influence of the regularization term\n",
    "       \n",
    "     Returns:\n",
    "        P: the new estimate for P\n",
    "        Q: the new estimate for Q\n",
    "     \"\"\"    \n",
    "    for f in range(features):\n",
    "        P[id_user, f] = P[id_user, f] + lr * (2 * Q[id_item, f] * error - 2 * weigth_decay * P[id_user, f])\n",
    "        Q[id_item, f] = Q[id_item, f] + lr * (2 * P[id_user, f] * error - 2 * weigth_decay * Q[id_item, f])\n",
    "      \n",
    "    return P, Q"
   ]
  },
  {
   "cell_type": "code",
   "execution_count": 53,
   "id": "ec9374e7-6f7b-42ec-93d0-484c475d9d91",
   "metadata": {},
   "outputs": [
    {
     "name": "stdout",
     "output_type": "stream",
     "text": [
      "Epoch :    1  | Train : 7.004  | Valid : 6.928\n",
      "Epoch :   11  | Train : 0.790  | Valid : 0.964\n"
     ]
    }
   ],
   "source": [
    "features = 5\n",
    "lr = 0.01\n",
    "epochs = 101\n",
    "weigth_decay = 0.02\n",
    "stopping = 0.001\n",
    "\n",
    "P, Q, loss_train, loss_valid = learn_to_recommend(train, features, lr, epochs, weigth_decay, stopping)"
   ]
  },
  {
   "cell_type": "markdown",
   "id": "05aac22b-b317-47a2-be85-84fc8b3fc81f",
   "metadata": {},
   "source": [
    "Assim que o modelo é treinado, podemos visualizar as diferentes curvas de aprendizado"
   ]
  },
  {
   "cell_type": "code",
   "execution_count": 54,
   "id": "6da57df0-d15f-4323-8591-2bc3fbfd6098",
   "metadata": {},
   "outputs": [
    {
     "data": {
      "image/png": "[encoded data removed]",
      "text/plain": [
       "<Figure size 864x576 with 1 Axes>"
      ]
     },
     "metadata": {},
     "output_type": "display_data"
    }
   ],
   "source": [
    "x = list(range(len(loss_train)))\n",
    "k=0\n",
    "\n",
    "sns.set(rc={'figure.figsize':(12,8)})\n",
    "sns.set(font_scale = 1.5)\n",
    "\n",
    "plt.plot(x[-k:], loss_train[-k:], 'r', label=\"Train\")\n",
    "plt.plot(x[-k:], loss_valid[-k:], 'g', label=\"Validation\")\n",
    "plt.title('Learning curves')\n",
    "plt.xlabel('Epoch')\n",
    "plt.ylabel('MSE')\n",
    "leg = plt.legend(loc='best', shadow=True, fancybox=True)"
   ]
  },
  {
   "cell_type": "markdown",
   "id": "1c0e68ab-6df3-419f-a560-e45dd44df462",
   "metadata": {},
   "source": [
    "## Análises"
   ]
  },
  {
   "cell_type": "code",
   "execution_count": 56,
   "id": "c4dd4a89-63f4-4867-81fe-4583343d3a3e",
   "metadata": {},
   "outputs": [],
   "source": [
    "def explore(movie_titles, latent_matrix, frequency_mask, factor_idx, k):\n",
    "    \"\"\"\n",
    "    Args:\n",
    "       movie_titles: Pandas Series containing movie titles\n",
    "        latent_matrix: matrix containing the model parameters for movies\n",
    "        frequency_mask: boolean array masking non-frequent movies\n",
    "        factor_idx: index of the latent variable\n",
    "        k: number of movies to show\n",
    "\n",
    "    Returns:\n",
    "        names: movie titles\n",
    "        scores: associated predicted ratings of movies\n",
    "    \"\"\"\n",
    "\n",
    "    latent_variable = latent_matrix[:, factor] * frequency_mask\n",
    "\n",
    "    nonzero_indices = np.nonzero(latent_variable)\n",
    "    movies = np.array(movie_titles)[nonzero_indices][:k]\n",
    "    latent_variable = latent_variable[nonzero_indices][:k]\n",
    "\n",
    "    return movies, latent_variable"
   ]
  },
  {
   "cell_type": "code",
   "execution_count": 62,
   "id": "bd2bc8a6-e779-4fee-9dfe-14d8745945ee",
   "metadata": {},
   "outputs": [
    {
     "data": {
      "text/html": [
       "<div>\n",
       "<style scoped>\n",
       "    .dataframe tbody tr th:only-of-type {\n",
       "        vertical-align: middle;\n",
       "    }\n",
       "\n",
       "    .dataframe tbody tr th {\n",
       "        vertical-align: top;\n",
       "    }\n",
       "\n",
       "    .dataframe thead th {\n",
       "        text-align: right;\n",
       "    }\n",
       "</style>\n",
       "<table border=\"1\" class=\"dataframe\">\n",
       "  <thead>\n",
       "    <tr style=\"text-align: right;\">\n",
       "      <th></th>\n",
       "      <th>Title</th>\n",
       "      <th>Latent factor</th>\n",
       "    </tr>\n",
       "  </thead>\n",
       "  <tbody>\n",
       "    <tr>\n",
       "      <th>1</th>\n",
       "      <td>Toy Story (1995)</td>\n",
       "      <td>1.845801</td>\n",
       "    </tr>\n",
       "    <tr>\n",
       "      <th>2</th>\n",
       "      <td>GoldenEye (1995)</td>\n",
       "      <td>0.97118</td>\n",
       "    </tr>\n",
       "    <tr>\n",
       "      <th>3</th>\n",
       "      <td>Get Shorty (1995)</td>\n",
       "      <td>1.146015</td>\n",
       "    </tr>\n",
       "    <tr>\n",
       "      <th>4</th>\n",
       "      <td>Twelve Monkeys (1995)</td>\n",
       "      <td>1.302513</td>\n",
       "    </tr>\n",
       "    <tr>\n",
       "      <th>5</th>\n",
       "      <td>Babe (1995)</td>\n",
       "      <td>1.659521</td>\n",
       "    </tr>\n",
       "    <tr>\n",
       "      <th>6</th>\n",
       "      <td>Dead Man Walking (1995)</td>\n",
       "      <td>1.000161</td>\n",
       "    </tr>\n",
       "    <tr>\n",
       "      <th>7</th>\n",
       "      <td>Seven (Se7en) (1995)</td>\n",
       "      <td>1.686862</td>\n",
       "    </tr>\n",
       "    <tr>\n",
       "      <th>8</th>\n",
       "      <td>Usual Suspects, The (1995)</td>\n",
       "      <td>1.881111</td>\n",
       "    </tr>\n",
       "    <tr>\n",
       "      <th>9</th>\n",
       "      <td>Mighty Aphrodite (1995)</td>\n",
       "      <td>1.348871</td>\n",
       "    </tr>\n",
       "    <tr>\n",
       "      <th>10</th>\n",
       "      <td>Postino, Il (1994)</td>\n",
       "      <td>1.554584</td>\n",
       "    </tr>\n",
       "  </tbody>\n",
       "</table>\n",
       "</div>"
      ],
      "text/plain": [
       "                         Title Latent factor\n",
       "1             Toy Story (1995)      1.845801\n",
       "2             GoldenEye (1995)       0.97118\n",
       "3            Get Shorty (1995)      1.146015\n",
       "4        Twelve Monkeys (1995)      1.302513\n",
       "5                  Babe (1995)      1.659521\n",
       "6      Dead Man Walking (1995)      1.000161\n",
       "7         Seven (Se7en) (1995)      1.686862\n",
       "8   Usual Suspects, The (1995)      1.881111\n",
       "9      Mighty Aphrodite (1995)      1.348871\n",
       "10          Postino, Il (1994)      1.554584"
      ]
     },
     "execution_count": 62,
     "metadata": {},
     "output_type": "execute_result"
    }
   ],
   "source": [
    "k = 10 # Número de filmes escolhidos\n",
    "factor = 0\n",
    "threshold = 0.1\n",
    "names, scores = explore(df_movies['movie_title'], Q, np.where(movie_popularity > threshold, 1, 0), factor, k) # Escolher filmes apenas assistido por mais de 10% da população dos usuários\n",
    "\n",
    "df = pd.DataFrame(np.matrix((names, scores)).T, (np.arange(len(scores)) + 1).tolist())\n",
    "df.columns = ['Title', 'Latent factor']\n",
    "df"
   ]
  },
  {
   "cell_type": "markdown",
   "id": "fcd62f0a-0340-4f0e-9be0-f6955aeb05eb",
   "metadata": {},
   "source": [
    "### Fazendo recomendações"
   ]
  },
  {
   "cell_type": "code",
   "execution_count": 65,
   "id": "dff8992a-53f5-4749-b0d7-e55cb84c5cf8",
   "metadata": {},
   "outputs": [],
   "source": [
    "def rank_top_k(names, ratings, k=10):\n",
    "    \n",
    "   \"\"\"\n",
    "   Example:\n",
    "   a, b = np.array(['a', 'b', 'c']), np.array([6, 1, 3])\n",
    "   a, b = rank_top_k(a, b, k=2)\n",
    "   >>> a\n",
    "   np.array('a', 'c')\n",
    "   >>> b\n",
    "   np.array([6, 3])\n",
    "   \"\"\"\n",
    " \n",
    "   # rank indices in descending order\n",
    "   ranked_ids = np.argsort(ratings)[::-1]\n",
    " \n",
    "   return names[ranked_ids][:k], ratings[ranked_ids][:k]"
   ]
  },
  {
   "cell_type": "code",
   "execution_count": 70,
   "id": "daa595b2-bea9-40cc-99cd-b0ccb88a54bb",
   "metadata": {},
   "outputs": [
    {
     "data": {
      "text/html": [
       "<div>\n",
       "<style scoped>\n",
       "    .dataframe tbody tr th:only-of-type {\n",
       "        vertical-align: middle;\n",
       "    }\n",
       "\n",
       "    .dataframe tbody tr th {\n",
       "        vertical-align: top;\n",
       "    }\n",
       "\n",
       "    .dataframe thead th {\n",
       "        text-align: right;\n",
       "    }\n",
       "</style>\n",
       "<table border=\"1\" class=\"dataframe\">\n",
       "  <thead>\n",
       "    <tr style=\"text-align: right;\">\n",
       "      <th></th>\n",
       "      <th>Título do filme</th>\n",
       "      <th>Avaliação prevista</th>\n",
       "    </tr>\n",
       "  </thead>\n",
       "  <tbody>\n",
       "    <tr>\n",
       "      <th>1</th>\n",
       "      <td>Blade Runner (1982)</td>\n",
       "      <td>4.578096</td>\n",
       "    </tr>\n",
       "    <tr>\n",
       "      <th>2</th>\n",
       "      <td>Silence of the Lambs, The (1991)</td>\n",
       "      <td>4.514011</td>\n",
       "    </tr>\n",
       "    <tr>\n",
       "      <th>3</th>\n",
       "      <td>Godfather, The (1972)</td>\n",
       "      <td>4.492528</td>\n",
       "    </tr>\n",
       "    <tr>\n",
       "      <th>4</th>\n",
       "      <td>Close Shave, A (1995)</td>\n",
       "      <td>4.449049</td>\n",
       "    </tr>\n",
       "    <tr>\n",
       "      <th>5</th>\n",
       "      <td>Shawshank Redemption, The (1994)</td>\n",
       "      <td>4.436774</td>\n",
       "    </tr>\n",
       "    <tr>\n",
       "      <th>6</th>\n",
       "      <td>One Flew Over the Cuckoo's Nest (1975)</td>\n",
       "      <td>4.422437</td>\n",
       "    </tr>\n",
       "    <tr>\n",
       "      <th>7</th>\n",
       "      <td>Star Wars (1977)</td>\n",
       "      <td>4.422232</td>\n",
       "    </tr>\n",
       "    <tr>\n",
       "      <th>8</th>\n",
       "      <td>Usual Suspects, The (1995)</td>\n",
       "      <td>4.398054</td>\n",
       "    </tr>\n",
       "    <tr>\n",
       "      <th>9</th>\n",
       "      <td>Wrong Trousers, The (1993)</td>\n",
       "      <td>4.392183</td>\n",
       "    </tr>\n",
       "    <tr>\n",
       "      <th>10</th>\n",
       "      <td>Schindler's List (1993)</td>\n",
       "      <td>4.374314</td>\n",
       "    </tr>\n",
       "  </tbody>\n",
       "</table>\n",
       "</div>"
      ],
      "text/plain": [
       "                           Título do filme Avaliação prevista\n",
       "1                      Blade Runner (1982)           4.578096\n",
       "2         Silence of the Lambs, The (1991)           4.514011\n",
       "3                    Godfather, The (1972)           4.492528\n",
       "4                    Close Shave, A (1995)           4.449049\n",
       "5         Shawshank Redemption, The (1994)           4.436774\n",
       "6   One Flew Over the Cuckoo's Nest (1975)           4.422437\n",
       "7                         Star Wars (1977)           4.422232\n",
       "8               Usual Suspects, The (1995)           4.398054\n",
       "9               Wrong Trousers, The (1993)           4.392183\n",
       "10                 Schindler's List (1993)           4.374314"
      ]
     },
     "execution_count": 70,
     "metadata": {},
     "output_type": "execute_result"
    }
   ],
   "source": [
    "user_id = 2 # Escolher um usuário\n",
    "top_k = 10\n",
    "\n",
    "# Definir a preferência do usuário usando nosso conjunto de treino\n",
    "user_train = np.array(train[0][user_id])\n",
    "\n",
    "\n",
    "# Definir que filmes o usuário ainda não assistiu, vamos apenas gerar recomendações para esses filmes\n",
    "movies_not_seen = np.where(user_train == 0, 1, 0)\n",
    "\n",
    "# Prever a avaliação do usuário para todos os filmes.\n",
    "estimates = np.dot(P[user_id, :], Q.T)\n",
    "\n",
    "# Considerar as avaliações estimadas para filmes que não foram vistos pelo usuário.\n",
    "unseen_movie_estimates = estimates * movies_not_seen\n",
    "\n",
    "# Retornar o top k recomendações para o usuário\n",
    "recommendations, scores = rank_top_k(np.array(df_movies['movie_title']), unseen_movie_estimates, k=top_k)\n",
    "\n",
    "# Mostrar o título e o predição de avaliação do usuário\n",
    "df = pd.DataFrame(np.matrix((recommendations, scores)).T, (np.arange(10) + 1).tolist(), \n",
    "                  columns=['Título do filme', 'Avaliação prevista'])\n",
    "df"
   ]
  },
  {
   "cell_type": "markdown",
   "id": "3c9f3162-cdce-4369-9063-56cdf780677f",
   "metadata": {},
   "source": [
    "---\n",
    "### Exportando modelo"
   ]
  },
  {
   "cell_type": "code",
   "execution_count": 74,
   "id": "f0c89439-c74e-468d-a189-ffaf6085de90",
   "metadata": {},
   "outputs": [],
   "source": [
    "import pickle\n",
    "filename = 'modelo.pk1'\n",
    "pickle.dump(train[0], open(filename, 'wb'))"
   ]
  },
  {
   "cell_type": "code",
   "execution_count": 75,
   "id": "24058621-722f-45ab-95f2-6fc0c3fe6d44",
   "metadata": {},
   "outputs": [
    {
     "data": {
      "text/plain": [
       "['model.sav']"
      ]
     },
     "execution_count": 75,
     "metadata": {},
     "output_type": "execute_result"
    }
   ],
   "source": [
    "import joblib\n",
    "joblib.dump(train[0], 'model.sav')"
   ]
  },
  {
   "cell_type": "markdown",
   "id": "0d53ded1-5ab6-42fc-b83f-a252f86a5727",
   "metadata": {},
   "source": [
    "---\n",
    "\n",
    "### Informação da sessão"
   ]
  },
  {
   "cell_type": "code",
   "execution_count": 71,
   "id": "178cbe4e-a045-48fc-9037-8198ec26ce9c",
   "metadata": {},
   "outputs": [
    {
     "name": "stdout",
     "output_type": "stream",
     "text": [
      "-----\n",
      "matplotlib          3.4.3\n",
      "numpy               1.20.3\n",
      "pandas              1.3.4\n",
      "requests            2.26.0\n",
      "seaborn             0.11.2\n",
      "session_info        1.0.0\n",
      "-----\n",
      "IPython             7.29.0\n",
      "jupyter_client      6.1.12\n",
      "jupyter_core        4.8.1\n",
      "jupyterlab          3.2.1\n",
      "notebook            6.4.5\n",
      "-----\n",
      "Python 3.9.7 (default, Sep 16 2021, 16:59:28) [MSC v.1916 64 bit (AMD64)]\n",
      "Windows-10-10.0.22000-SP0\n",
      "-----\n",
      "Session information updated at 2022-04-27 17:53\n"
     ]
    }
   ],
   "source": [
    "import session_info\n",
    "session_info.show(html=False)"
   ]
  },
  {
   "cell_type": "markdown",
   "id": "417730a5-7d03-407c-9736-5afbb14c85f6",
   "metadata": {},
   "source": [
    "---\n",
    "\n",
    "Dataset citation\n",
    "\n",
    "F. Maxwell Harper and Joseph A. Konstan. 2015. The MovieLens Datasets:\n",
    "History and Context. ACM Transactions on Interactive Intelligent\n",
    "Systems (TiiS) 5, 4, Article 19 (December 2015), 19 pages.\n",
    "DOI=http://dx.doi.org/10.1145/2827872"
   ]
  }
 ],
 "metadata": {
  "kernelspec": {
   "display_name": "Python 3 (ipykernel)",
   "language": "python",
   "name": "python3"
  },
  "language_info": {
   "codemirror_mode": {
    "name": "ipython",
    "version": 3
   },
   "file_extension": ".py",
   "mimetype": "text/x-python",
   "name": "python",
   "nbconvert_exporter": "python",
   "pygments_lexer": "ipython3",
   "version": "3.9.7"
  }
 },
 "nbformat": 4,
 "nbformat_minor": 5
}
